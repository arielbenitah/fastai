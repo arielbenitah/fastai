{
 "cells": [
  {
   "cell_type": "code",
   "execution_count": 1,
   "metadata": {},
   "outputs": [],
   "source": [
    "# https://course.fast.ai/videos/?lesson=9 @1:23:34\n",
    "# Callbacks\n",
    "# keep track of metrics: progress bar animation\n",
    "# hyper params scheduling \n",
    "# regularization techniques\n",
    "# tensorboards\n",
    "# mixed precision training\n"
   ]
  },
  {
   "cell_type": "code",
   "execution_count": 2,
   "metadata": {},
   "outputs": [],
   "source": [
    "%load_ext autoreload\n",
    "%autoreload 2\n",
    "\n",
    "%matplotlib inline"
   ]
  },
  {
   "cell_type": "code",
   "execution_count": 3,
   "metadata": {},
   "outputs": [],
   "source": [
    "from __future__ import absolute_import, division, print_function, unicode_literals\n",
    "import numpy as np\n",
    "import tensorflow as tf\n",
    "import matplotlib.pyplot as plt\n",
    "from pdb import set_trace\n",
    "from functools import partial\n",
    "import math"
   ]
  },
  {
   "cell_type": "code",
   "execution_count": 4,
   "metadata": {},
   "outputs": [
    {
     "name": "stdout",
     "output_type": "stream",
     "text": [
      "(60000, 28, 28) (60000,) (10000, 28, 28) (10000,)\n",
      "(60000, 784) (60000,) (10000, 784) (10000,) 0 9\n",
      "60000 784 10\n"
     ]
    }
   ],
   "source": [
    "mnist = tf.keras.datasets.mnist\n",
    "\n",
    "\n",
    "(x_train, y_train), (x_test, y_test) = mnist.load_data()\n",
    "print(x_train.shape, y_train.shape, x_test.shape, y_test.shape)\n",
    "x_train = x_train.reshape((x_train.shape[0], x_train.shape[1] * x_train.shape[1]))\n",
    "x_test = x_test.reshape((x_test.shape[0], x_test.shape[1] * x_test.shape[1]))\n",
    "print(x_train.shape, y_train.shape, x_test.shape, y_test.shape, y_train.min(), y_train.max())\n",
    "n, m = x_train.shape\n",
    "c = y_train.max() + 1\n",
    "print(n, m, c)"
   ]
  },
  {
   "cell_type": "code",
   "execution_count": 5,
   "metadata": {},
   "outputs": [],
   "source": [
    "def normalize(x, m, s): return (x - m) / s"
   ]
  },
  {
   "cell_type": "code",
   "execution_count": 6,
   "metadata": {},
   "outputs": [
    {
     "data": {
      "text/plain": [
       "(33.318421449829934, 78.56748998339798)"
      ]
     },
     "execution_count": 6,
     "metadata": {},
     "output_type": "execute_result"
    }
   ],
   "source": [
    "train_mean, train_std = x_train.mean(), x_train.std()\n",
    "train_mean, train_std"
   ]
  },
  {
   "cell_type": "code",
   "execution_count": 7,
   "metadata": {},
   "outputs": [],
   "source": [
    "x_train = normalize(x_train, train_mean, train_std)\n",
    "x_test  = normalize(x_test,  train_mean, train_std)"
   ]
  },
  {
   "cell_type": "code",
   "execution_count": 8,
   "metadata": {},
   "outputs": [
    {
     "data": {
      "text/plain": [
       "(-3.064638490070051e-17, 0.9999999999999998)"
      ]
     },
     "execution_count": 8,
     "metadata": {},
     "output_type": "execute_result"
    }
   ],
   "source": [
    "train_mean, train_std = x_train.mean(), x_train.std()\n",
    "train_mean, train_std"
   ]
  },
  {
   "cell_type": "code",
   "execution_count": 9,
   "metadata": {},
   "outputs": [],
   "source": [
    "class Model(tf.keras.Model):\n",
    "    def __init__(self, nh, n_out):        \n",
    "        super().__init__()\n",
    "        self.lrs = [tf.keras.layers.Dense(nh), tf.keras.layers.ReLU(), tf.keras.layers.Dense(n_out)]\n",
    "        \n",
    "    def call(self, x):\n",
    "        for l in self.lrs: x = l(x)\n",
    "        return x\n",
    "    \n",
    "# corss entropy loss\n",
    "def cross_entropy(targets, predictions):\n",
    "    return tf.math.reduce_mean(tf.nn.softmax_cross_entropy_with_logits(targets, predictions))\n",
    "\n",
    "# here the target MUST NOT BE one hot encoded\n",
    "def accuracy(targets, predictions):\n",
    "    y_predictions = tf.cast(tf.argmax(predictions, axis=1), dtype=tf.float32)\n",
    "    y_targets = tf.cast(targets, dtype=tf.float32)\n",
    "    return tf.math.reduce_mean(tf.cast(tf.math.equal( y_predictions, y_targets) , dtype=tf.float32))\n",
    "\n",
    "# class cross_entropy():\n",
    "#     def __init__(self):\n",
    "#         pass\n",
    "    \n",
    "#     def call(self, targets, predictions):\n",
    "#         return tf.math.reduce_mean(tf.nn.softmax_cross_entropy_with_logits(targets, predictions))\n",
    "\n",
    "    "
   ]
  },
  {
   "cell_type": "raw",
   "metadata": {},
   "source": [
    "# activate the model\n",
    "pred = model(x_train)"
   ]
  },
  {
   "cell_type": "markdown",
   "metadata": {},
   "source": [
    "## Packing Your Full Model into a Learner"
   ]
  },
  {
   "cell_type": "code",
   "execution_count": 10,
   "metadata": {},
   "outputs": [],
   "source": [
    "# The idea is to pack your model into something that take\n",
    "# 1. the model \n",
    "# 2. the optimization method \n",
    "# 3. the loss function amd 4. the data\n",
    "class Learner():\n",
    "    def __init__(self, model, optimizer, loss_function, data):\n",
    "        self.model, self.optimizer, self.loss_function, self.data = model, optimizer, loss_function, data"
   ]
  },
  {
   "cell_type": "code",
   "execution_count": 11,
   "metadata": {},
   "outputs": [],
   "source": [
    "# The data as well can be packed into a DataBunch containing \n",
    "# 1. the training data\n",
    "# 2. the validation data\n",
    "# 3. the classes from 0 to 9\n",
    "# in a future version it can be interesting to get a subsample of the full data\n",
    "# for training purposes\n",
    "class DataBunch():\n",
    "    def __init__(self, train_dl, valid_dl, classes=None):\n",
    "        self.train_dl, self.valid_dl, self.classes = train_dl, valid_dl, classes\n",
    "        self.train_samples, self.valid_samples =  len(list(self.train_dl)), len(list(self.valid_dl))            "
   ]
  },
  {
   "cell_type": "code",
   "execution_count": 12,
   "metadata": {},
   "outputs": [],
   "source": [
    "def one_hot(x, y, classes):\n",
    "    return x, tf.one_hot(y, classes)"
   ]
  },
  {
   "cell_type": "code",
   "execution_count": 13,
   "metadata": {},
   "outputs": [
    {
     "data": {
      "text/plain": [
       "(<MapDataset shapes: ((None, 784), (None, 10)), types: (tf.float64, tf.float32)>,\n",
       " <MapDataset shapes: ((None, 784), (None, 10)), types: (tf.float64, tf.float32)>)"
      ]
     },
     "execution_count": 13,
     "metadata": {},
     "output_type": "execute_result"
    }
   ],
   "source": [
    "# Setting the dataset in tensorflow\n",
    "\n",
    "BATCH_SIZE = 64\n",
    "SHUFFLE_BUFFER_SIZE = 100\n",
    "\n",
    "train_ds = tf.data.Dataset.from_tensor_slices((x_train, y_train))\n",
    "train_ds = train_ds.shuffle(SHUFFLE_BUFFER_SIZE)\n",
    "train_ds = train_ds.batch(BATCH_SIZE)\n",
    "train_ds = train_ds.map(lambda x, y: one_hot(x, y, classes=c))\n",
    "\n",
    "valid_ds = tf.data.Dataset.from_tensor_slices((x_test, y_test))\n",
    "valid_ds = valid_ds.batch(BATCH_SIZE)\n",
    "valid_ds = valid_ds.map(lambda x, y: one_hot(x, y, classes=c))\n",
    "train_ds, valid_ds"
   ]
  },
  {
   "cell_type": "code",
   "execution_count": 14,
   "metadata": {},
   "outputs": [],
   "source": [
    "# Now how to fix this and insert callbacks: metrics and stuff"
   ]
  },
  {
   "cell_type": "code",
   "execution_count": 15,
   "metadata": {},
   "outputs": [],
   "source": [
    "#export\n",
    "import re\n",
    "\n",
    "_camel_re1 = re.compile('(.)([A-Z][a-z]+)')\n",
    "_camel_re2 = re.compile('([a-z0-9])([A-Z])')\n",
    "def camel2snake(name):\n",
    "    s1 = re.sub(_camel_re1, r'\\1_\\2', name)\n",
    "    return re.sub(_camel_re2, r'\\1_\\2', s1).lower()\n",
    "\n",
    "class Callback():\n",
    "    _order=0\n",
    "    def set_runner(self, run): self.run=run\n",
    "    def __getattr__(self, k): return getattr(self.run, k)\n",
    "    @property\n",
    "    def name(self):\n",
    "        name = re.sub(r'Callback$', '', self.__class__.__name__)\n",
    "        return camel2snake(name or 'callback')"
   ]
  },
  {
   "cell_type": "code",
   "execution_count": 16,
   "metadata": {},
   "outputs": [],
   "source": [
    "#export\n",
    "class TrainEvalCallback(Callback):\n",
    "    def begin_fit(self):        \n",
    "        self.run.n_epochs=0.\n",
    "        self.run.n_iter=0\n",
    "    \n",
    "    def after_batch(self):        \n",
    "        if not self.in_train: return\n",
    "        self.run.n_epochs += 1./self.iters\n",
    "        self.run.n_iter   += 1\n",
    "        \n",
    "    def begin_epoch(self):        \n",
    "        self.run.n_epochs=self.epoch\n",
    "#         self.model.train()\n",
    "        self.run.in_train=True\n",
    "\n",
    "    def begin_validate(self):        \n",
    "#         self.model.eval()\n",
    "        self.run.in_train=False"
   ]
  },
  {
   "cell_type": "code",
   "execution_count": 17,
   "metadata": {},
   "outputs": [
    {
     "data": {
      "text/plain": [
       "'train_eval_callback'"
      ]
     },
     "execution_count": 17,
     "metadata": {},
     "output_type": "execute_result"
    }
   ],
   "source": [
    "cbname = 'TrainEvalCallback'\n",
    "camel2snake(cbname)"
   ]
  },
  {
   "cell_type": "code",
   "execution_count": 18,
   "metadata": {},
   "outputs": [
    {
     "data": {
      "text/plain": [
       "'train_eval'"
      ]
     },
     "execution_count": 18,
     "metadata": {},
     "output_type": "execute_result"
    }
   ],
   "source": [
    "TrainEvalCallback().name"
   ]
  },
  {
   "cell_type": "code",
   "execution_count": 19,
   "metadata": {},
   "outputs": [],
   "source": [
    "#export\n",
    "from typing import *\n",
    "\n",
    "def listify(o):\n",
    "    if o is None: return []\n",
    "    if isinstance(o, list): return o\n",
    "    if isinstance(o, str): return [o]\n",
    "    if isinstance(o, Iterable): return list(o)\n",
    "    return [o]"
   ]
  },
  {
   "cell_type": "code",
   "execution_count": 20,
   "metadata": {},
   "outputs": [],
   "source": [
    "#export\n",
    "class Runner():\n",
    "    def __init__(self, cbs=None, cb_funcs=None):        \n",
    "        cbs = listify(cbs)        \n",
    "        for cbf in listify(cb_funcs):\n",
    "            cb = cbf()\n",
    "            setattr(self, cb.name, cb)\n",
    "            cbs.append(cb)\n",
    "        self.stop,self.cbs = False,[TrainEvalCallback()]+cbs\n",
    "\n",
    "    @property\n",
    "    def optimizer(self):       return self.learn.optimizer\n",
    "    @property\n",
    "    def model(self):           return self.learn.model\n",
    "    @property\n",
    "    def loss_function(self):   return self.learn.loss_function\n",
    "    @property\n",
    "    def data(self):            return self.learn.data\n",
    "\n",
    "    def one_batch(self, xb, yb):        \n",
    "        # if watch_accessed_variables is True, the variables will be watched for gradients computation\n",
    "        # if watch_accessed_variables is False, no variables are watched for further gradients computation        \n",
    "        with tf.GradientTape(watch_accessed_variables=self.in_train) as tape:            \n",
    "            self.xb,self.yb = xb,yb\n",
    "            if self('begin_batch'): return\n",
    "            # if training is True, this enables to calculate batchnorm and dropout\n",
    "            # else batchnorm and dropout are disabled\n",
    "            self.pred = self.model(self.xb, training=self.in_train)\n",
    "            if self('after_pred'): return\n",
    "            self.loss = self.loss_function(self.yb, self.pred)            \n",
    "            if self('after_loss') or not self.in_train: return\n",
    "            gradients = tape.gradient(self.loss, self.model.trainable_variables)\n",
    "            if self('after_gradients'): return            \n",
    "            optimizer.apply_gradients(zip(gradients, self.model.trainable_variables))\n",
    "            if self('after_step'): return        \n",
    "\n",
    "    def all_batches(self, dl):        \n",
    "        self.iters = len(list(dl))\n",
    "        for xb,yb in dl:\n",
    "            if self.stop: break\n",
    "            self.one_batch(xb, yb)\n",
    "            self('after_batch')\n",
    "        self.stop=False\n",
    "\n",
    "    def fit(self, epochs, learn):          \n",
    "        self.epochs,self.learn = epochs,learn                \n",
    "        try:  \n",
    "            # set runner for all callbacks\n",
    "            for cb in self.cbs: \n",
    "                cb.set_runner(self)     \n",
    "                \n",
    "            # on begin fit what to do?\n",
    "            if self('begin_fit'): \n",
    "                return            \n",
    "            for epoch in range(epochs):                \n",
    "                self.epoch = epoch\n",
    "                \n",
    "                # on begin epoch what to do?\n",
    "                if not self('begin_epoch'):                     \n",
    "                    self.all_batches(self.data.train_dl)\n",
    "                \n",
    "                # on begin validate what to do?                \n",
    "                if not self('begin_validate'): \n",
    "                    self.all_batches(self.data.valid_dl)\n",
    "                    \n",
    "                if self('after_epoch'): break\n",
    "            \n",
    "        finally:\n",
    "            self('after_fit')\n",
    "            self.learn = None\n",
    "\n",
    "    def __call__(self, cb_name):\n",
    "        for cb in sorted(self.cbs, key=lambda x: x._order):\n",
    "            f = getattr(cb, cb_name, None)\n",
    "            if f and f(): return True\n",
    "        return False"
   ]
  },
  {
   "cell_type": "code",
   "execution_count": 21,
   "metadata": {},
   "outputs": [],
   "source": [
    "class AvgStats():\n",
    "    def __init__(self, metrics, in_train): self.metrics,self.in_train = listify(metrics),in_train\n",
    "    \n",
    "    def reset(self):\n",
    "        self.tot_loss,self.count = 0.,0\n",
    "        self.tot_mets = [0.] * len(self.metrics)\n",
    "        \n",
    "    @property\n",
    "    def all_stats(self): return [self.tot_loss.numpy()] + self.tot_mets\n",
    "    @property\n",
    "    def avg_stats(self): return [o/self.count for o in self.all_stats]\n",
    "    \n",
    "    def __repr__(self):\n",
    "        if not self.count: return \"\"\n",
    "        if self.in_train: return 'train: ' + 'loss = ' + str(self.avg_stats[0]) + ' acc = ' + str(self.avg_stats[1].numpy())\n",
    "        else:             return 'valid: ' + 'loss = ' + str(self.avg_stats[0]) + ' acc = ' + str(self.avg_stats[1].numpy())\n",
    " \n",
    "\n",
    "    def accumulate(self, run):\n",
    "        bn = run.xb.shape[0]\n",
    "        self.tot_loss += run.loss * bn\n",
    "        self.count += bn\n",
    "        for i,m in enumerate(self.metrics):\n",
    "            self.tot_mets[i] += m(tf.argmax(run.yb, axis=-1), run.pred) * bn\n",
    "\n",
    "class AvgStatsCallback(Callback):\n",
    "    def __init__(self, metrics):\n",
    "        self.train_stats,self.valid_stats = AvgStats(metrics,True),AvgStats(metrics,False)\n",
    "        \n",
    "    def begin_epoch(self):\n",
    "        self.train_stats.reset()\n",
    "        self.valid_stats.reset()\n",
    "        \n",
    "    def after_loss(self):\n",
    "        stats = self.train_stats if self.in_train else self.valid_stats\n",
    "        stats.accumulate(self.run)\n",
    "    \n",
    "    def after_epoch(self):\n",
    "        print(self.train_stats)\n",
    "        print(self.valid_stats)"
   ]
  },
  {
   "cell_type": "code",
   "execution_count": 22,
   "metadata": {},
   "outputs": [],
   "source": [
    "acc = AvgStatsCallback(accuracy)\n",
    "run = Runner(cbs=acc)"
   ]
  },
  {
   "cell_type": "code",
   "execution_count": 23,
   "metadata": {},
   "outputs": [],
   "source": [
    "# set model parameters\n",
    "n_out = 10 # output classes\n",
    "nh = 50 # hidden\n",
    "lr = 0.3\n",
    "model = Model(nh, n_out)\n",
    "loss_function = cross_entropy\n",
    "optimizer = tf.keras.optimizers.SGD(learning_rate=lr)"
   ]
  },
  {
   "cell_type": "code",
   "execution_count": 24,
   "metadata": {},
   "outputs": [],
   "source": [
    "# set the dataset\n",
    "data = DataBunch(train_ds, valid_ds, classes=c)"
   ]
  },
  {
   "cell_type": "code",
   "execution_count": 25,
   "metadata": {},
   "outputs": [],
   "source": [
    "# pack the full model into a learner\n",
    "learn = Learner(model=model, optimizer=optimizer, loss_function=loss_function, data=data)"
   ]
  },
  {
   "cell_type": "code",
   "execution_count": 26,
   "metadata": {
    "scrolled": false
   },
   "outputs": [],
   "source": [
    "# run.fit(1, learn)"
   ]
  },
  {
   "cell_type": "raw",
   "metadata": {},
   "source": [
    "optimizer.lr, optimizer.decay"
   ]
  },
  {
   "cell_type": "code",
   "execution_count": 27,
   "metadata": {},
   "outputs": [],
   "source": [
    "# save and track of the loss and scheduled learning rate\n",
    "class Recorder(Callback):    \n",
    "    def begin_fit(self): self.lrs, self.losses = [], []\n",
    "        \n",
    "    def after_batch(self):        \n",
    "        if not self.in_train: return        \n",
    "        self.lrs.append(self.optimizer.lr.numpy())\n",
    "        self.losses.append(self.loss.numpy())\n",
    "        \n",
    "    def plot_lr(self): \n",
    "#         set_trace()\n",
    "        plt.plot(self.lrs)\n",
    "    def plot_loss(self): plt.plot(self.losses)"
   ]
  },
  {
   "cell_type": "code",
   "execution_count": 28,
   "metadata": {},
   "outputs": [],
   "source": [
    "# schedule hyperparams\n",
    "class ParamScheduler(Callback):\n",
    "    _order=1\n",
    "    def __init__(self, pname, sched_func): \n",
    "        self.pname, self.sched_func = pname, sched_func\n",
    "        \n",
    "    def set_param(self):        \n",
    "        if not hasattr(self.optimizer, self.pname): \n",
    "            print('No such attribute:', self.pname) \n",
    "            return\n",
    "#         set_trace()\n",
    "        setattr(self.optimizer, self.pname, self.sched_func(self.n_epochs/self.epochs))\n",
    "        \n",
    "    def begin_batch(self):\n",
    "        if self.in_train: self.set_param()"
   ]
  },
  {
   "cell_type": "code",
   "execution_count": 29,
   "metadata": {},
   "outputs": [],
   "source": [
    "def sched_lin(start, end):\n",
    "    def _inner(start, end, pos): return start + pos * (end - start)\n",
    "    return partial(_inner, start, end)"
   ]
  },
  {
   "cell_type": "code",
   "execution_count": 30,
   "metadata": {},
   "outputs": [],
   "source": [
    "def annealer(f):\n",
    "    def _inner(start, end): return partial(f, start, end)\n",
    "    return _inner\n",
    "    \n",
    "@annealer\n",
    "def sched_lin(start, end, pos): return start + pos * (end - start)"
   ]
  },
  {
   "cell_type": "code",
   "execution_count": 31,
   "metadata": {},
   "outputs": [],
   "source": [
    "# hit shift tab\n",
    "# sched_lin()"
   ]
  },
  {
   "cell_type": "raw",
   "metadata": {},
   "source": [
    "f = sched_lin(1, 2)\n",
    "f(0.3)"
   ]
  },
  {
   "cell_type": "code",
   "execution_count": 32,
   "metadata": {},
   "outputs": [],
   "source": [
    "@annealer\n",
    "def sched_cos(start, end, pos): return start + (1 + math.cos(math.pi * (1 - pos))) * (end - start) / 2\n",
    "\n",
    "@annealer\n",
    "def sched_no(start, end, pos): return start\n",
    "\n",
    "@annealer\n",
    "def sched_exp(start, end, pos): return start * (end / start)**pos"
   ]
  },
  {
   "cell_type": "code",
   "execution_count": 33,
   "metadata": {},
   "outputs": [
    {
     "data": {
      "image/png": "[encoded data removed]",
      "text/plain": [
       "<Figure size 432x288 with 1 Axes>"
      ]
     },
     "metadata": {
      "needs_background": "light"
     },
     "output_type": "display_data"
    }
   ],
   "source": [
    "annealings = \"NO LINEAR COS EXP\".split()\n",
    "\n",
    "a = tf.range(0, 100)\n",
    "p = tf.linspace(0.01, 1, 100)\n",
    "\n",
    "fns = [sched_no, sched_lin, sched_cos, sched_exp]\n",
    "for fn, t in zip(fns, annealings):\n",
    "    f = fn(2, 1e-2)    \n",
    "    plt.plot(a, [f(o) for o in p], label=t)\n",
    "plt.legend();"
   ]
  },
  {
   "cell_type": "markdown",
   "metadata": {},
   "source": [
    "In practice, we'll often want to combine different schedulers, the following function does that: it uses scheds[i] for pcts[i] of the training."
   ]
  },
  {
   "cell_type": "code",
   "execution_count": 34,
   "metadata": {},
   "outputs": [],
   "source": [
    "def combine_scheds(pcts, scheds):\n",
    "    assert sum(pcts) == 1.\n",
    "#     pcts = tf.constant([0] + listify(pcts))\n",
    "    pcts = np.array([0] + listify(pcts))\n",
    "#     assert tf.reduce_all(pcts >= 0)\n",
    "    assert np.all(pcts >= 0)\n",
    "#     pcts = tf.cumsum(pcts, 0)\n",
    "    pcts = np.cumsum(pcts, 0)\n",
    "    def _inner(pos):\n",
    "        assert pos <= 1.\n",
    "#         idx = 1 if pos==1 else tf.reduce_max(tf.where(pos >= pcts))\n",
    "        idx = 1 if pos==1 else np.max(np.where(pos >= pcts))\n",
    "        actual_pos = (pos-pcts[idx]) / (pcts[idx+1]-pcts[idx])\n",
    "        return scheds[idx](actual_pos)\n",
    "    return _inner"
   ]
  },
  {
   "cell_type": "raw",
   "metadata": {},
   "source": [
    "pcts = [0.3, 0.7]\n",
    "pcts = np.array([0] + listify(pcts))\n",
    "np.all(pcts>=0)\n",
    "pcts = np.cumsum(pcts, 0)\n",
    "pos = 0.5\n",
    "np.max(np.where(pos >= pcts))"
   ]
  },
  {
   "cell_type": "markdown",
   "metadata": {},
   "source": [
    "Here is an example: use 30% of the budget to go from 0.3 to 0.6 following a cosine, then the last 70% of the budget to go from 0.6 to 0.2, still following a cosine."
   ]
  },
  {
   "cell_type": "code",
   "execution_count": 35,
   "metadata": {},
   "outputs": [],
   "source": [
    "sched = combine_scheds([0.3, 0.7], [sched_cos(0.3, 0.6), sched_cos(0.6, 0.2)])"
   ]
  },
  {
   "cell_type": "code",
   "execution_count": 36,
   "metadata": {},
   "outputs": [
    {
     "data": {
      "text/plain": [
       "[<matplotlib.lines.Line2D at 0x7f1270501128>]"
      ]
     },
     "execution_count": 36,
     "metadata": {},
     "output_type": "execute_result"
    },
    {
     "data": {
      "image/png": "[encoded data removed]",
      "text/plain": [
       "<Figure size 432x288 with 1 Axes>"
      ]
     },
     "metadata": {
      "needs_background": "light"
     },
     "output_type": "display_data"
    }
   ],
   "source": [
    "plt.plot(a, [sched(o) for o in p])"
   ]
  },
  {
   "cell_type": "code",
   "execution_count": 37,
   "metadata": {},
   "outputs": [],
   "source": [
    "cbfs = [partial(AvgStatsCallback, accuracy),\n",
    "        partial(ParamScheduler, 'lr', sched),\n",
    "        Recorder]"
   ]
  },
  {
   "cell_type": "code",
   "execution_count": 38,
   "metadata": {},
   "outputs": [],
   "source": [
    "run = Runner(cb_funcs=cbfs)"
   ]
  },
  {
   "cell_type": "code",
   "execution_count": null,
   "metadata": {
    "scrolled": false
   },
   "outputs": [
    {
     "name": "stdout",
     "output_type": "stream",
     "text": [
      "WARNING:tensorflow:Layer model is casting an input tensor from dtype float64 to the layer's dtype of float32, which is new behavior in TensorFlow 2.  The layer has dtype float32 because it's dtype defaults to floatx.\n",
      "\n",
      "If you intended to run this layer in float32, you can safely ignore this warning. If in doubt, this warning is likely only an issue if you are porting a TensorFlow 1.X model to TensorFlow 2.\n",
      "\n",
      "To change all layers to have dtype float64 by default, call `tf.keras.backend.set_floatx('float64')`. To change just this layer, pass dtype='float64' to the layer constructor. If you are the author of this layer, you can disable autocasting by passing autocast=False to the base Layer constructor.\n",
      "\n",
      "train: loss = 0.35685615234375 acc = 0.89718336\n",
      "valid: loss = 0.98005419921875 acc = 0.8147\n"
     ]
    }
   ],
   "source": [
    "run.fit(3, learn)"
   ]
  },
  {
   "cell_type": "code",
   "execution_count": null,
   "metadata": {},
   "outputs": [],
   "source": [
    "run.recorder.plot_lr()"
   ]
  },
  {
   "cell_type": "code",
   "execution_count": null,
   "metadata": {},
   "outputs": [],
   "source": [
    "run.recorder.plot_loss()"
   ]
  },
  {
   "cell_type": "code",
   "execution_count": null,
   "metadata": {},
   "outputs": [],
   "source": [
    "a = 2\n",
    "'train ' + str(a)"
   ]
  },
  {
   "cell_type": "code",
   "execution_count": null,
   "metadata": {},
   "outputs": [],
   "source": []
  }
 ],
 "metadata": {
  "kernelspec": {
   "display_name": "Python 3",
   "language": "python",
   "name": "python3"
  },
  "language_info": {
   "codemirror_mode": {
    "name": "ipython",
    "version": 3
   },
   "file_extension": ".py",
   "mimetype": "text/x-python",
   "name": "python",
   "nbconvert_exporter": "python",
   "pygments_lexer": "ipython3",
   "version": "3.5.2"
  }
 },
 "nbformat": 4,
 "nbformat_minor": 2
}
