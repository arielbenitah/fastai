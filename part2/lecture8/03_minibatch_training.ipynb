{
 "cells": [
  {
   "cell_type": "code",
   "execution_count": 1,
   "metadata": {},
   "outputs": [],
   "source": [
    "%load_ext autoreload\n",
    "%autoreload 2\n",
    "\n",
    "%matplotlib inline"
   ]
  },
  {
   "cell_type": "code",
   "execution_count": 2,
   "metadata": {},
   "outputs": [],
   "source": [
    "from __future__ import absolute_import, division, print_function, unicode_literals\n",
    "import numpy as np\n",
    "import tensorflow as tf\n",
    "import matplotlib.pyplot as plt\n",
    "from pdb import set_trace"
   ]
  },
  {
   "cell_type": "code",
   "execution_count": 3,
   "metadata": {},
   "outputs": [
    {
     "name": "stdout",
     "output_type": "stream",
     "text": [
      "(60000, 28, 28) (60000,) (10000, 28, 28) (10000,)\n",
      "(60000, 784) (60000,) (10000, 784) (10000,) 0 9\n",
      "60000 784 10\n"
     ]
    }
   ],
   "source": [
    "mnist = tf.keras.datasets.mnist\n",
    "\n",
    "\n",
    "(x_train, y_train), (x_test, y_test) = mnist.load_data()\n",
    "print(x_train.shape, y_train.shape, x_test.shape, y_test.shape)\n",
    "x_train = x_train.reshape((x_train.shape[0], x_train.shape[1] * x_train.shape[1]))\n",
    "x_test = x_test.reshape((x_test.shape[0], x_test.shape[1] * x_test.shape[1]))\n",
    "print(x_train.shape, y_train.shape, x_test.shape, y_test.shape, y_train.min(), y_train.max())\n",
    "n, m = x_train.shape\n",
    "c = y_train.max() + 1\n",
    "print(n, m, c)"
   ]
  },
  {
   "cell_type": "code",
   "execution_count": 4,
   "metadata": {},
   "outputs": [],
   "source": [
    "def normalize(x, m, s): return (x - m) / s"
   ]
  },
  {
   "cell_type": "code",
   "execution_count": 5,
   "metadata": {},
   "outputs": [
    {
     "data": {
      "text/plain": [
       "(33.318421449829934, 78.56748998339798)"
      ]
     },
     "execution_count": 5,
     "metadata": {},
     "output_type": "execute_result"
    }
   ],
   "source": [
    "train_mean, train_std = x_train.mean(), x_train.std()\n",
    "train_mean, train_std"
   ]
  },
  {
   "cell_type": "code",
   "execution_count": 6,
   "metadata": {},
   "outputs": [],
   "source": [
    "x_train = normalize(x_train, train_mean, train_std)\n",
    "x_test  = normalize(x_test,  train_mean, train_std)"
   ]
  },
  {
   "cell_type": "code",
   "execution_count": 7,
   "metadata": {},
   "outputs": [
    {
     "data": {
      "text/plain": [
       "(-3.064638490070051e-17, 0.9999999999999998)"
      ]
     },
     "execution_count": 7,
     "metadata": {},
     "output_type": "execute_result"
    }
   ],
   "source": [
    "train_mean, train_std = x_train.mean(), x_train.std()\n",
    "train_mean, train_std"
   ]
  },
  {
   "cell_type": "code",
   "execution_count": 8,
   "metadata": {},
   "outputs": [
    {
     "data": {
      "text/plain": [
       "(60000, 784)"
      ]
     },
     "execution_count": 8,
     "metadata": {},
     "output_type": "execute_result"
    }
   ],
   "source": [
    "x_train.shape"
   ]
  },
  {
   "cell_type": "code",
   "execution_count": 9,
   "metadata": {},
   "outputs": [],
   "source": [
    "# # in order to run the kernel, 5 x 5 - see bellow cells, I reshape \n",
    "# # into 60000 x 28 x 28 x 1, the last dimension is because we have only one channel\n",
    "# x_train = tf.reshape(x_train, [x_train.shape[0], 28, 28])[..., None]\n",
    "# x_test  = tf.reshape(x_test , [x_test.shape[0], 28, 28])[..., None]\n",
    "# x_train.shape, x_test.shape"
   ]
  },
  {
   "cell_type": "raw",
   "metadata": {},
   "source": [
    "plt.imshow(tf.squeeze(x_train[0]), cmap='gray')"
   ]
  },
  {
   "cell_type": "code",
   "execution_count": 10,
   "metadata": {},
   "outputs": [],
   "source": [
    "# num hidden layer\n",
    "nh = 50"
   ]
  },
  {
   "cell_type": "code",
   "execution_count": 11,
   "metadata": {},
   "outputs": [],
   "source": [
    "class Model(tf.keras.Model):\n",
    "    def __init__(self, nh, n_out):        \n",
    "        super().__init__()\n",
    "        self.lrs = [tf.keras.layers.Dense(nh), tf.keras.layers.ReLU(), tf.keras.layers.Dense(n_out)]\n",
    "        \n",
    "    def call(self, x):\n",
    "        for l in self.lrs: x = l(x)\n",
    "        return x\n",
    "    \n",
    "model = Model(nh, 10)"
   ]
  },
  {
   "cell_type": "code",
   "execution_count": 12,
   "metadata": {},
   "outputs": [
    {
     "name": "stderr",
     "output_type": "stream",
     "text": [
      "WARNING: Logging before flag parsing goes to stderr.\n",
      "W0102 13:09:31.903322 139782540642048 base_layer.py:1814] Layer model is casting an input tensor from dtype float64 to the layer's dtype of float32, which is new behavior in TensorFlow 2.  The layer has dtype float32 because it's dtype defaults to floatx.\n",
      "\n",
      "If you intended to run this layer in float32, you can safely ignore this warning. If in doubt, this warning is likely only an issue if you are porting a TensorFlow 1.X model to TensorFlow 2.\n",
      "\n",
      "To change all layers to have dtype float64 by default, call `tf.keras.backend.set_floatx('float64')`. To change just this layer, pass dtype='float64' to the layer constructor. If you are the author of this layer, you can disable autocasting by passing autocast=False to the base Layer constructor.\n",
      "\n"
     ]
    }
   ],
   "source": [
    "# activate the model\n",
    "pred = model(x_train)"
   ]
  },
  {
   "cell_type": "code",
   "execution_count": 13,
   "metadata": {},
   "outputs": [
    {
     "data": {
      "text/plain": [
       "[<tensorflow.python.keras.layers.core.Dense at 0x7f20db716198>,\n",
       " <tensorflow.python.keras.layers.advanced_activations.ReLU at 0x7f20db716470>,\n",
       " <tensorflow.python.keras.layers.core.Dense at 0x7f20db7165f8>]"
      ]
     },
     "execution_count": 13,
     "metadata": {},
     "output_type": "execute_result"
    }
   ],
   "source": [
    "model.layers"
   ]
  },
  {
   "cell_type": "code",
   "execution_count": 14,
   "metadata": {},
   "outputs": [
    {
     "data": {
      "text/plain": [
       "4"
      ]
     },
     "execution_count": 14,
     "metadata": {},
     "output_type": "execute_result"
    }
   ],
   "source": [
    "len(model.variables)"
   ]
  },
  {
   "cell_type": "code",
   "execution_count": 15,
   "metadata": {},
   "outputs": [
    {
     "name": "stdout",
     "output_type": "stream",
     "text": [
      "Model: \"model\"\n",
      "_________________________________________________________________\n",
      "Layer (type)                 Output Shape              Param #   \n",
      "=================================================================\n",
      "dense (Dense)                multiple                  39250     \n",
      "_________________________________________________________________\n",
      "re_lu (ReLU)                 multiple                  0         \n",
      "_________________________________________________________________\n",
      "dense_1 (Dense)              multiple                  510       \n",
      "=================================================================\n",
      "Total params: 39,760\n",
      "Trainable params: 39,760\n",
      "Non-trainable params: 0\n",
      "_________________________________________________________________\n"
     ]
    }
   ],
   "source": [
    "model.summary()"
   ]
  },
  {
   "cell_type": "code",
   "execution_count": 16,
   "metadata": {},
   "outputs": [],
   "source": [
    "def softmax(x): return tf.math.exp(x)/tf.math.reduce_sum(tf.math.exp(x), 1, keepdims=True)"
   ]
  },
  {
   "cell_type": "code",
   "execution_count": 17,
   "metadata": {},
   "outputs": [],
   "source": [
    "def log_softmax(x): return tf.math.log(softmax(x))"
   ]
  },
  {
   "cell_type": "code",
   "execution_count": 18,
   "metadata": {},
   "outputs": [],
   "source": [
    "sm_pred = log_softmax(pred)"
   ]
  },
  {
   "cell_type": "code",
   "execution_count": 19,
   "metadata": {},
   "outputs": [
    {
     "data": {
      "text/plain": [
       "array([5, 0, 4], dtype=uint8)"
      ]
     },
     "execution_count": 19,
     "metadata": {},
     "output_type": "execute_result"
    }
   ],
   "source": [
    "y_train[:3]"
   ]
  },
  {
   "cell_type": "code",
   "execution_count": 20,
   "metadata": {},
   "outputs": [
    {
     "data": {
      "text/plain": [
       "<tf.Tensor: id=65, shape=(10,), dtype=float32, numpy=\n",
       "array([-1.2655183, -1.7178358, -4.6140556, -1.8788285, -2.149867 ,\n",
       "       -2.792309 , -3.8598835, -3.129559 , -4.4795275, -2.1049902],\n",
       "      dtype=float32)>"
      ]
     },
     "execution_count": 20,
     "metadata": {},
     "output_type": "execute_result"
    }
   ],
   "source": [
    "# the first element in y_train[:3] above is the element we want (which is 5):\n",
    "sm_pred[0]"
   ]
  },
  {
   "cell_type": "code",
   "execution_count": 21,
   "metadata": {},
   "outputs": [
    {
     "data": {
      "text/plain": [
       "<tf.Tensor: id=73, shape=(), dtype=float32, numpy=-2.149867>"
      ]
     },
     "execution_count": 21,
     "metadata": {},
     "output_type": "execute_result"
    }
   ],
   "source": [
    "# so we want\n",
    "sm_pred[0][4]"
   ]
  },
  {
   "cell_type": "code",
   "execution_count": 22,
   "metadata": {},
   "outputs": [
    {
     "name": "stdout",
     "output_type": "stream",
     "text": [
      "tf.Tensor([-2.792309 -2.122984 -3.45119 ], shape=(3,), dtype=float32)\n",
      "tf.Tensor([-2.792309 -2.122984 -3.45119 ], shape=(3,), dtype=float32)\n"
     ]
    }
   ],
   "source": [
    "# so instead of calculating -sum(x * log(x)) and do \"waste time\" calculating stuff like 0 * log(q)\n",
    "# Jeremy presents a solution in the notebook: in pytorch : sm_pred[[0, 1, 2], [5, 0, 4]]\n",
    "# In tensorflow this can be done as follow:\n",
    "# you want to collect ONLY relevant ground true probabilities (==1.0), \n",
    "# so in the example above, we need to gather for the first row of sm_pred, position 5\n",
    "# from the 2 row position 0\n",
    "# from the 3rd row position 4\n",
    "# in tf this can be done as follow:\n",
    "# tf.gather_nd(sm_pred, [[0, 5], [1, 0], [2, 4]])\n",
    "print(tf.gather_nd(sm_pred, np.array([[0, 5], [1, 0], [2, 4]])))\n",
    "# or in a more formalized way:\n",
    "print(tf.gather_nd(sm_pred, np.stack((np.arange(len(y_train[:3])), y_train[:3])).transpose()))"
   ]
  },
  {
   "cell_type": "code",
   "execution_count": 23,
   "metadata": {},
   "outputs": [],
   "source": [
    "# so instead of summing unnecessary elements, there is a better way (as shown above) of\n",
    "# calculating the negative log likelihood (nll):\n",
    "def nll(input, target): \n",
    "    \n",
    "    # rearange target such that it looks as above:\n",
    "    pick = np.stack((np.arange(len(target)), target)).transpose()\n",
    "                    \n",
    "    # nll\n",
    "    return -tf.math.reduce_mean(tf.gather_nd(input, pick))"
   ]
  },
  {
   "cell_type": "code",
   "execution_count": 24,
   "metadata": {},
   "outputs": [
    {
     "name": "stdout",
     "output_type": "stream",
     "text": [
      "tf.Tensor(2.7888277, shape=(), dtype=float32)\n",
      "tf.Tensor(2.7888277, shape=(), dtype=float32)\n"
     ]
    }
   ],
   "source": [
    "print(nll(sm_pred, y_train[:3]))\n",
    "print(-tf.math.reduce_mean(tf.gather_nd(sm_pred, np.array([[0, 5], [1, 0], [2, 4]]))))"
   ]
  },
  {
   "cell_type": "code",
   "execution_count": 25,
   "metadata": {},
   "outputs": [
    {
     "data": {
      "text/plain": [
       "<tf.Tensor: id=92, shape=(), dtype=float32, numpy=2.7140043>"
      ]
     },
     "execution_count": 25,
     "metadata": {},
     "output_type": "execute_result"
    }
   ],
   "source": [
    "loss = nll(sm_pred, y_train)\n",
    "loss"
   ]
  },
  {
   "cell_type": "code",
   "execution_count": 26,
   "metadata": {},
   "outputs": [],
   "source": [
    "# since it's the log of the softmax, it can be rewritten as:\n",
    "def log_softmax(x): return x - tf.math.log(tf.math.reduce_sum(tf.math.exp(x), 1, keepdims=True))"
   ]
  },
  {
   "cell_type": "code",
   "execution_count": 27,
   "metadata": {},
   "outputs": [],
   "source": [
    "sm_pred = log_softmax(pred)"
   ]
  },
  {
   "cell_type": "code",
   "execution_count": 28,
   "metadata": {},
   "outputs": [
    {
     "data": {
      "text/plain": [
       "<tf.Tensor: id=101, shape=(10,), dtype=float32, numpy=\n",
       "array([-1.2655182, -1.7178357, -4.6140556, -1.8788284, -2.149867 ,\n",
       "       -2.7923088, -3.8598835, -3.1295588, -4.479527 , -2.10499  ],\n",
       "      dtype=float32)>"
      ]
     },
     "execution_count": 28,
     "metadata": {},
     "output_type": "execute_result"
    }
   ],
   "source": [
    "sm_pred[0] # same as above"
   ]
  },
  {
   "cell_type": "code",
   "execution_count": 29,
   "metadata": {},
   "outputs": [],
   "source": [
    "# log sum exp trick:\n",
    "# high floating points number are not accurate, so the logsumexp trick comes to the rescue\n",
    "# see https://course.fast.ai/videos/?lesson=9 at 40 min\n",
    "def logsumexp(x):\n",
    "    # find the maximum:\n",
    "    m = tf.math.reduce_max(x)\n",
    "    \n",
    "    # it's just a trick that extract the maximum out of the sum:\n",
    "    return m + tf.math.log(tf.math.reduce_sum(tf.math.exp(x-m), 1, keepdims=True))"
   ]
  },
  {
   "cell_type": "code",
   "execution_count": 30,
   "metadata": {},
   "outputs": [
    {
     "data": {
      "text/plain": [
       "<tf.Tensor: id=109, shape=(60000, 1), dtype=float32, numpy=\n",
       "array([[3.0857718],\n",
       "       [2.619653 ],\n",
       "       [3.1994472],\n",
       "       ...,\n",
       "       [3.4174674],\n",
       "       [2.4986951],\n",
       "       [2.9030917]], dtype=float32)>"
      ]
     },
     "execution_count": 30,
     "metadata": {},
     "output_type": "execute_result"
    }
   ],
   "source": [
    "# my logsumexp\n",
    "logsumexp(pred)"
   ]
  },
  {
   "cell_type": "code",
   "execution_count": 31,
   "metadata": {},
   "outputs": [
    {
     "data": {
      "text/plain": [
       "<tf.Tensor: id=121, shape=(60000, 1), dtype=float32, numpy=\n",
       "array([[3.0857716],\n",
       "       [2.6196532],\n",
       "       [3.1994472],\n",
       "       ...,\n",
       "       [3.4174674],\n",
       "       [2.4986951],\n",
       "       [2.903092 ]], dtype=float32)>"
      ]
     },
     "execution_count": 31,
     "metadata": {},
     "output_type": "execute_result"
    }
   ],
   "source": [
    "# tf logsumexp\n",
    "tf.math.reduce_logsumexp(pred, 1, keepdims=True)"
   ]
  },
  {
   "cell_type": "code",
   "execution_count": 32,
   "metadata": {},
   "outputs": [],
   "source": [
    "def log_softmax(x): return x - tf.math.reduce_logsumexp(x, 1, keepdims=True)"
   ]
  },
  {
   "cell_type": "code",
   "execution_count": 33,
   "metadata": {},
   "outputs": [
    {
     "name": "stdout",
     "output_type": "stream",
     "text": [
      "tf.Tensor(2.7140038, shape=(), dtype=float32)\n",
      "tf.Tensor(2.7140043, shape=(), dtype=float32)\n"
     ]
    }
   ],
   "source": [
    "print(nll(log_softmax(pred), y_train))\n",
    "print(loss)"
   ]
  },
  {
   "cell_type": "code",
   "execution_count": 34,
   "metadata": {},
   "outputs": [
    {
     "name": "stdout",
     "output_type": "stream",
     "text": [
      "tf.Tensor(2.7140043, shape=(), dtype=float32)\n",
      "tf.Tensor(2.7140043, shape=(), dtype=float32)\n"
     ]
    }
   ],
   "source": [
    "# in tensorflow, nll is a combination of mean + softmax + cross entropy.\n",
    "# softmax + cross entropy are combined into one function called\n",
    "# tf.nn.softmax_cross_entropy_with_logits(y_true, y_pred)\n",
    "# HOWEVER, y_train must be one hot encoded and to calculate the loss\n",
    "# we need to calculate the mean on the result on tf.nn.softmax_cross_entropy_with_logits\n",
    "# interesting discussion on stackoverflow:\n",
    "# https://stackoverflow.com/questions/34240703/what-is-logits-softmax-and-softmax-cross-entropy-with-logits\n",
    "# Using tf:\n",
    "print(tf.math.reduce_mean(tf.nn.softmax_cross_entropy_with_logits(tf.one_hot(y_train, 10), pred)))\n",
    "# Using Keras:\n",
    "print(tf.math.reduce_mean(tf.keras.losses.categorical_crossentropy(tf.one_hot(y_train, 10), softmax(pred))))"
   ]
  },
  {
   "cell_type": "markdown",
   "metadata": {},
   "source": [
    "# Basic Training Loop"
   ]
  },
  {
   "cell_type": "markdown",
   "metadata": {},
   "source": [
    "Training is repeating over the following steps:\n",
    "1. get the outputof the model on a batch of inputs\n",
    "2. compare the output to the labels we have and compute a loss\n",
    "3. calculate the gradients of the loss with respect to every parameter of the model\n",
    "4. update said parameters with those gradients to make them a little bit better"
   ]
  },
  {
   "cell_type": "code",
   "execution_count": 35,
   "metadata": {},
   "outputs": [],
   "source": [
    "# here target MUST be one hot encoded\n",
    "# corss entropy loss\n",
    "def cross_entropy(targets, predictions):\n",
    "    return tf.math.reduce_mean(tf.nn.softmax_cross_entropy_with_logits(targets, predictions))"
   ]
  },
  {
   "cell_type": "code",
   "execution_count": 36,
   "metadata": {},
   "outputs": [],
   "source": [
    "# here the target MUST NOT BE one hot encoded\n",
    "def accuracy(targets, predictions):\n",
    "    y_predictions = tf.cast(tf.argmax(predictions, axis=1), dtype=tf.float32)\n",
    "    y_targets = tf.cast(targets, dtype=tf.float32)\n",
    "    return tf.math.reduce_mean(tf.cast(tf.math.equal( y_predictions, y_targets) , dtype=tf.float32))"
   ]
  },
  {
   "cell_type": "code",
   "execution_count": 37,
   "metadata": {},
   "outputs": [
    {
     "data": {
      "text/plain": [
       "(<tf.Tensor: id=219, shape=(10,), dtype=float32, numpy=\n",
       " array([ 1.8202534 ,  1.3679359 , -1.528284  ,  1.2069432 ,  0.93590456,\n",
       "         0.29346266, -0.7741119 , -0.0437873 , -1.3937556 ,  0.98078144],\n",
       "       dtype=float32)>, TensorShape([64, 10]))"
      ]
     },
     "execution_count": 37,
     "metadata": {},
     "output_type": "execute_result"
    }
   ],
   "source": [
    "bs = 64\n",
    "xb = x_train[:bs]\n",
    "preds = model(xb)\n",
    "preds[0], preds.shape"
   ]
  },
  {
   "cell_type": "code",
   "execution_count": 38,
   "metadata": {},
   "outputs": [
    {
     "data": {
      "text/plain": [
       "<tf.Tensor: id=258, shape=(), dtype=float32, numpy=2.7845428>"
      ]
     },
     "execution_count": 38,
     "metadata": {},
     "output_type": "execute_result"
    }
   ],
   "source": [
    "yb = y_train[:bs]\n",
    "cross_entropy(tf.one_hot(yb, 10), preds)"
   ]
  },
  {
   "cell_type": "code",
   "execution_count": 39,
   "metadata": {},
   "outputs": [
    {
     "data": {
      "text/plain": [
       "9.375"
      ]
     },
     "execution_count": 39,
     "metadata": {},
     "output_type": "execute_result"
    }
   ],
   "source": [
    "# accuracy percentage\n",
    "accuracy(yb, preds).numpy()*100"
   ]
  },
  {
   "cell_type": "code",
   "execution_count": 40,
   "metadata": {},
   "outputs": [],
   "source": [
    "lr = 0.5 # learning rate\n",
    "epochs = 1 # how many epochs"
   ]
  },
  {
   "cell_type": "code",
   "execution_count": 41,
   "metadata": {
    "scrolled": false
   },
   "outputs": [],
   "source": [
    "def fit():\n",
    "    for epoch in range(epochs):\n",
    "        for i in range((n-1)//bs + 1):        \n",
    "            start_i = i*bs\n",
    "            end_i   = start_i+bs\n",
    "            xb = x_train[start_i:end_i]\n",
    "            yb = y_train[start_i:end_i]\n",
    "\n",
    "            with tf.GradientTape() as tape:\n",
    "\n",
    "                # calculate loss\n",
    "                loss = cross_entropy(tf.one_hot(yb, 10), model(xb))\n",
    "\n",
    "                # calculate gradient            \n",
    "                gradients = tape.gradient(loss, model.trainable_variables)\n",
    "\n",
    "                # update\n",
    "                for i, parameters in enumerate(model.trainable_variables):                \n",
    "                    parameters.assign_sub(lr * gradients[i])\n",
    "            "
   ]
  },
  {
   "cell_type": "code",
   "execution_count": 42,
   "metadata": {},
   "outputs": [
    {
     "data": {
      "text/plain": [
       "(0.15762433, 95.3125)"
      ]
     },
     "execution_count": 42,
     "metadata": {},
     "output_type": "execute_result"
    }
   ],
   "source": [
    "# the loss is improved as well as the accuracy\n",
    "fit()\n",
    "cross_entropy(tf.one_hot(yb, 10), model(xb)).numpy(), accuracy(yb, model(xb)).numpy()*100"
   ]
  },
  {
   "cell_type": "code",
   "execution_count": 43,
   "metadata": {},
   "outputs": [],
   "source": [
    "# the model above can be written as follow using sequential:\n",
    "# Sequential inherits from Model!!\n",
    "model = tf.keras.Sequential([tf.keras.layers.Dense(nh), tf.keras.layers.ReLU(), tf.keras.layers.Dense(10)])"
   ]
  },
  {
   "cell_type": "code",
   "execution_count": 44,
   "metadata": {},
   "outputs": [],
   "source": [
    "# this will replace the lines 18-19 in the fit() function above\n",
    "b"
   ]
  },
  {
   "cell_type": "code",
   "execution_count": 45,
   "metadata": {},
   "outputs": [],
   "source": [
    "def fit2():\n",
    "    for epoch in range(epochs):\n",
    "        for i in range((n-1)//bs + 1):        \n",
    "            start_i = i*bs\n",
    "            end_i   = start_i+bs\n",
    "            xb = x_train[start_i:end_i]\n",
    "            yb = y_train[start_i:end_i]\n",
    "\n",
    "            with tf.GradientTape() as tape:\n",
    "\n",
    "                # calculate loss\n",
    "                loss = cross_entropy(tf.one_hot(yb, 10), model(xb))\n",
    "\n",
    "                # calculate gradient            \n",
    "                gradients = tape.gradient(loss, model.trainable_variables)\n",
    "\n",
    "                # update\n",
    "                optimizer.apply_gradients(zip(gradients, model.trainable_variables))"
   ]
  },
  {
   "cell_type": "code",
   "execution_count": 46,
   "metadata": {},
   "outputs": [
    {
     "name": "stderr",
     "output_type": "stream",
     "text": [
      "W0102 13:09:42.418771 139782540642048 base_layer.py:1814] Layer sequential is casting an input tensor from dtype float64 to the layer's dtype of float32, which is new behavior in TensorFlow 2.  The layer has dtype float32 because it's dtype defaults to floatx.\n",
      "\n",
      "If you intended to run this layer in float32, you can safely ignore this warning. If in doubt, this warning is likely only an issue if you are porting a TensorFlow 1.X model to TensorFlow 2.\n",
      "\n",
      "To change all layers to have dtype float64 by default, call `tf.keras.backend.set_floatx('float64')`. To change just this layer, pass dtype='float64' to the layer constructor. If you are the author of this layer, you can disable autocasting by passing autocast=False to the base Layer constructor.\n",
      "\n"
     ]
    },
    {
     "data": {
      "text/plain": [
       "(0.31112832, 92.1875)"
      ]
     },
     "execution_count": 46,
     "metadata": {},
     "output_type": "execute_result"
    }
   ],
   "source": [
    "fit2()\n",
    "cross_entropy(tf.one_hot(yb, 10), model(xb)).numpy(), accuracy(yb, model(xb)).numpy()*100"
   ]
  },
  {
   "cell_type": "markdown",
   "metadata": {},
   "source": [
    "# Dataset"
   ]
  },
  {
   "cell_type": "code",
   "execution_count": 47,
   "metadata": {},
   "outputs": [],
   "source": [
    "BATCH_SIZE = 64\n",
    "SHUFFLE_BUFFER_SIZE = 100"
   ]
  },
  {
   "cell_type": "code",
   "execution_count": 48,
   "metadata": {},
   "outputs": [],
   "source": [
    "train_ds = tf.data.Dataset.from_tensor_slices((x_train, y_train))\n",
    "train_ds = train_ds.shuffle(SHUFFLE_BUFFER_SIZE)\n",
    "train_ds = train_ds.batch(BATCH_SIZE)\n",
    "\n",
    "valid_ds = tf.data.Dataset.from_tensor_slices((x_test, y_test))\n",
    "valid_ds = valid_ds.batch(BATCH_SIZE)"
   ]
  },
  {
   "cell_type": "code",
   "execution_count": 49,
   "metadata": {},
   "outputs": [
    {
     "data": {
      "text/plain": [
       "(938, 157)"
      ]
     },
     "execution_count": 49,
     "metadata": {},
     "output_type": "execute_result"
    }
   ],
   "source": [
    "# lenght of dataset\n",
    "nt, nv = len(list(train_ds)), len(list(valid_ds))\n",
    "nt, nv"
   ]
  },
  {
   "cell_type": "code",
   "execution_count": 50,
   "metadata": {},
   "outputs": [
    {
     "data": {
      "text/plain": [
       "(TensorShape([64, 784]), TensorShape([64]))"
      ]
     },
     "execution_count": 50,
     "metadata": {},
     "output_type": "execute_result"
    }
   ],
   "source": [
    "# extract one batch from dataset\n",
    "image, label = next(iter(train_ds))\n",
    "image.shape, label.shape"
   ]
  },
  {
   "cell_type": "code",
   "execution_count": 51,
   "metadata": {},
   "outputs": [
    {
     "name": "stdout",
     "output_type": "stream",
     "text": [
      "label =  4\n"
     ]
    },
    {
     "data": {
      "image/png": "[encoded data removed]",
      "text/plain": [
       "<Figure size 432x288 with 1 Axes>"
      ]
     },
     "metadata": {
      "needs_background": "light"
     },
     "output_type": "display_data"
    }
   ],
   "source": [
    "plt.imshow(tf.reshape(image[0], [28, 28]), cmap='gray')\n",
    "print('label = ', label[0].numpy())"
   ]
  },
  {
   "cell_type": "code",
   "execution_count": 52,
   "metadata": {},
   "outputs": [
    {
     "name": "stdout",
     "output_type": "stream",
     "text": [
      "label =  7\n"
     ]
    },
    {
     "data": {
      "image/png": "[encoded data removed]",
      "text/plain": [
       "<Figure size 432x288 with 1 Axes>"
      ]
     },
     "metadata": {
      "needs_background": "light"
     },
     "output_type": "display_data"
    }
   ],
   "source": [
    "# another way is to loop on the dataset and use take:\n",
    "for image, label in train_ds.take(1):\n",
    "    plt.imshow(tf.reshape(image[0], [28, 28]), cmap='gray')\n",
    "    print('label = ', label[0].numpy())"
   ]
  },
  {
   "cell_type": "code",
   "execution_count": 53,
   "metadata": {},
   "outputs": [],
   "source": [
    "# in this case, the fit function becomes:\n",
    "def fit3():\n",
    "    for epoch in range(epochs):\n",
    "        \n",
    "        # loop on the dataset\n",
    "        for xb, yb in train_ds:            \n",
    "\n",
    "            with tf.GradientTape() as tape:\n",
    "                \n",
    "                # calculate preditions:\n",
    "                predictions = model(xb)\n",
    "\n",
    "                # calculate loss\n",
    "                loss = cross_entropy(tf.one_hot(yb, 10), predictions)\n",
    "\n",
    "                # calculate gradient            \n",
    "                gradients = tape.gradient(loss, model.trainable_variables)\n",
    "\n",
    "                # update\n",
    "                optimizer.apply_gradients(zip(gradients, model.trainable_variables))"
   ]
  },
  {
   "cell_type": "code",
   "execution_count": 54,
   "metadata": {},
   "outputs": [
    {
     "data": {
      "text/plain": [
       "(0.19535127, 95.3125)"
      ]
     },
     "execution_count": 54,
     "metadata": {},
     "output_type": "execute_result"
    }
   ],
   "source": [
    "fit3()\n",
    "cross_entropy(tf.one_hot(yb, 10), model(xb)).numpy(), accuracy(yb, model(xb)).numpy()*100"
   ]
  },
  {
   "cell_type": "code",
   "execution_count": 55,
   "metadata": {},
   "outputs": [],
   "source": [
    "epochs = 5"
   ]
  },
  {
   "cell_type": "code",
   "execution_count": 56,
   "metadata": {},
   "outputs": [],
   "source": [
    "# in this case, the fit function becomes:\n",
    "def fit4():\n",
    "    for epoch in range(epochs):\n",
    "        \n",
    "        # loop on the training dataset\n",
    "        for xb, yb in train_ds:            \n",
    "\n",
    "            with tf.GradientTape() as tape:\n",
    "                \n",
    "                # calculate preditions:\n",
    "                predictions = model(xb)\n",
    "\n",
    "                # calculate loss\n",
    "                loss = cross_entropy(tf.one_hot(yb, 10), predictions)\n",
    "\n",
    "                # calculate gradient            \n",
    "                gradients = tape.gradient(loss, model.trainable_variables)\n",
    "\n",
    "                # update\n",
    "                optimizer.apply_gradients(zip(gradients, model.trainable_variables))\n",
    "        \n",
    "        # loop on the validation dataset\n",
    "        tot_loss, tot_acc = 0., 0.    \n",
    "        for xb, yb in valid_ds:\n",
    "            \n",
    "            # predictions\n",
    "            predictions = model(xb)\n",
    "            \n",
    "            # total loss\n",
    "            tot_loss += cross_entropy(tf.one_hot(yb, 10), predictions).numpy()\n",
    "            \n",
    "            # total accuracy\n",
    "            tot_acc += accuracy(yb, predictions).numpy()*100\n",
    "       \n",
    "        # total number of elements in validation set\n",
    "        print(epoch, tot_loss/nv, tot_acc/nv)\n",
    "        \n",
    "    return tot_loss/nv, tot_acc/nv"
   ]
  },
  {
   "cell_type": "code",
   "execution_count": 57,
   "metadata": {},
   "outputs": [
    {
     "name": "stdout",
     "output_type": "stream",
     "text": [
      "0 0.31415770974627155 91.90883757961784\n",
      "1 0.3365966368312384 91.49084394904459\n",
      "2 0.3152571506916907 92.43630573248407\n",
      "3 0.4686549094618316 88.11703821656052\n",
      "4 0.5612629761646508 86.38535031847134\n"
     ]
    }
   ],
   "source": [
    "loss, acc = fit4()"
   ]
  },
  {
   "cell_type": "code",
   "execution_count": null,
   "metadata": {},
   "outputs": [],
   "source": []
  }
 ],
 "metadata": {
  "kernelspec": {
   "display_name": "TF20",
   "language": "python",
   "name": "tf20"
  },
  "language_info": {
   "codemirror_mode": {
    "name": "ipython",
    "version": 3
   },
   "file_extension": ".py",
   "mimetype": "text/x-python",
   "name": "python",
   "nbconvert_exporter": "python",
   "pygments_lexer": "ipython3",
   "version": "3.5.2"
  }
 },
 "nbformat": 4,
 "nbformat_minor": 2
}
