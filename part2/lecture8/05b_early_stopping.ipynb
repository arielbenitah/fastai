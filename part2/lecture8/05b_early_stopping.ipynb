{
 "cells": [
  {
   "cell_type": "code",
   "execution_count": 1,
   "metadata": {},
   "outputs": [],
   "source": [
    "# https://course.fast.ai/videos/?lesson=10&t=3167 @52:46\n",
    "# Callbacks\n",
    "# keep track of metrics: progress bar animation\n",
    "# hyper params scheduling \n",
    "# regularization techniques\n",
    "# tensorboards\n",
    "# mixed precision training\n"
   ]
  },
  {
   "cell_type": "code",
   "execution_count": 2,
   "metadata": {},
   "outputs": [],
   "source": [
    "%load_ext autoreload\n",
    "%autoreload 2\n",
    "\n",
    "%matplotlib inline"
   ]
  },
  {
   "cell_type": "code",
   "execution_count": 3,
   "metadata": {},
   "outputs": [],
   "source": [
    "from __future__ import absolute_import, division, print_function, unicode_literals\n",
    "import numpy as np\n",
    "import tensorflow as tf\n",
    "import matplotlib.pyplot as plt\n",
    "from pdb import set_trace\n",
    "from functools import partial\n",
    "import math"
   ]
  },
  {
   "cell_type": "markdown",
   "metadata": {},
   "source": [
    "# Early Stopping"
   ]
  },
  {
   "cell_type": "markdown",
   "metadata": {},
   "source": [
    "## Better callback cancellation"
   ]
  },
  {
   "cell_type": "code",
   "execution_count": 4,
   "metadata": {},
   "outputs": [
    {
     "name": "stdout",
     "output_type": "stream",
     "text": [
      "(60000, 28, 28) (60000,) (10000, 28, 28) (10000,)\n",
      "(60000, 784) (60000,) (10000, 784) (10000,) 0 9\n",
      "60000 784 10\n"
     ]
    }
   ],
   "source": [
    "mnist = tf.keras.datasets.mnist\n",
    "\n",
    "\n",
    "(x_train, y_train), (x_test, y_test) = mnist.load_data()\n",
    "print(x_train.shape, y_train.shape, x_test.shape, y_test.shape)\n",
    "x_train = x_train.reshape((x_train.shape[0], x_train.shape[1] * x_train.shape[1]))\n",
    "x_test = x_test.reshape((x_test.shape[0], x_test.shape[1] * x_test.shape[1]))\n",
    "print(x_train.shape, y_train.shape, x_test.shape, y_test.shape, y_train.min(), y_train.max())\n",
    "n, m = x_train.shape\n",
    "c = y_train.max() + 1\n",
    "print(n, m, c)"
   ]
  },
  {
   "cell_type": "code",
   "execution_count": 5,
   "metadata": {},
   "outputs": [],
   "source": [
    "def normalize(x, m, s): return (x - m) / s"
   ]
  },
  {
   "cell_type": "code",
   "execution_count": 6,
   "metadata": {},
   "outputs": [
    {
     "data": {
      "text/plain": [
       "(33.318421449829934, 78.56748998339798)"
      ]
     },
     "execution_count": 6,
     "metadata": {},
     "output_type": "execute_result"
    }
   ],
   "source": [
    "train_mean, train_std = x_train.mean(), x_train.std()\n",
    "train_mean, train_std"
   ]
  },
  {
   "cell_type": "code",
   "execution_count": 7,
   "metadata": {},
   "outputs": [],
   "source": [
    "x_train = normalize(x_train, train_mean, train_std)\n",
    "x_test  = normalize(x_test,  train_mean, train_std)"
   ]
  },
  {
   "cell_type": "code",
   "execution_count": 8,
   "metadata": {},
   "outputs": [
    {
     "data": {
      "text/plain": [
       "(-3.064638490070051e-17, 0.9999999999999998)"
      ]
     },
     "execution_count": 8,
     "metadata": {},
     "output_type": "execute_result"
    }
   ],
   "source": [
    "train_mean, train_std = x_train.mean(), x_train.std()\n",
    "train_mean, train_std"
   ]
  },
  {
   "cell_type": "code",
   "execution_count": 9,
   "metadata": {},
   "outputs": [],
   "source": [
    "class Model(tf.keras.Model):\n",
    "    def __init__(self, nh, n_out):        \n",
    "        super().__init__()\n",
    "        self.lrs = [tf.keras.layers.Dense(nh), tf.keras.layers.ReLU(), tf.keras.layers.Dense(n_out)]\n",
    "        \n",
    "    def call(self, x):\n",
    "        for l in self.lrs: x = l(x)\n",
    "        return x\n",
    "    \n",
    "# corss entropy loss\n",
    "def cross_entropy(targets, predictions):\n",
    "    return tf.math.reduce_mean(tf.nn.softmax_cross_entropy_with_logits(targets, predictions))\n",
    "\n",
    "# here the target MUST NOT BE one hot encoded\n",
    "def accuracy(targets, predictions):\n",
    "    y_predictions = tf.cast(tf.argmax(predictions, axis=1), dtype=tf.float32)\n",
    "    y_targets = tf.cast(targets, dtype=tf.float32)\n",
    "    return tf.math.reduce_mean(tf.cast(tf.math.equal( y_predictions, y_targets) , dtype=tf.float32))\n",
    "\n",
    "# class cross_entropy():\n",
    "#     def __init__(self):\n",
    "#         pass\n",
    "    \n",
    "#     def call(self, targets, predictions):\n",
    "#         return tf.math.reduce_mean(tf.nn.softmax_cross_entropy_with_logits(targets, predictions))\n",
    "\n",
    "    "
   ]
  },
  {
   "cell_type": "markdown",
   "metadata": {},
   "source": [
    "## Packing Your Full Model into a Learner"
   ]
  },
  {
   "cell_type": "code",
   "execution_count": 10,
   "metadata": {},
   "outputs": [],
   "source": [
    "# The idea is to pack your model into something that take\n",
    "# 1. the model \n",
    "# 2. the optimization method \n",
    "# 3. the loss function amd 4. the data\n",
    "class Learner():\n",
    "    def __init__(self, model, optimizer, loss_function, data):\n",
    "        self.model, self.optimizer, self.loss_function, self.data = model, optimizer, loss_function, data"
   ]
  },
  {
   "cell_type": "code",
   "execution_count": 11,
   "metadata": {},
   "outputs": [],
   "source": [
    "# The data as well can be packed into a DataBunch containing \n",
    "# 1. the training data\n",
    "# 2. the validation data\n",
    "# 3. the classes from 0 to 9\n",
    "# in a future version it can be interesting to get a subsample of the full data\n",
    "# for training purposes\n",
    "class DataBunch():\n",
    "    def __init__(self, train_dl, valid_dl, classes=None):\n",
    "        self.train_dl, self.valid_dl, self.classes = train_dl, valid_dl, classes\n",
    "        self.train_samples, self.valid_samples =  len(list(self.train_dl)), len(list(self.valid_dl))            "
   ]
  },
  {
   "cell_type": "code",
   "execution_count": 12,
   "metadata": {},
   "outputs": [],
   "source": [
    "def one_hot(x, y, classes):\n",
    "    return x, tf.one_hot(y, classes)"
   ]
  },
  {
   "cell_type": "code",
   "execution_count": 13,
   "metadata": {},
   "outputs": [
    {
     "data": {
      "text/plain": [
       "(<MapDataset shapes: ((None, 784), (None, 10)), types: (tf.float64, tf.float32)>,\n",
       " <MapDataset shapes: ((None, 784), (None, 10)), types: (tf.float64, tf.float32)>)"
      ]
     },
     "execution_count": 13,
     "metadata": {},
     "output_type": "execute_result"
    }
   ],
   "source": [
    "# Setting the dataset in tensorflow\n",
    "\n",
    "BATCH_SIZE = 64\n",
    "SHUFFLE_BUFFER_SIZE = 100\n",
    "\n",
    "train_ds = tf.data.Dataset.from_tensor_slices((x_train, y_train))\n",
    "train_ds = train_ds.shuffle(SHUFFLE_BUFFER_SIZE)\n",
    "train_ds = train_ds.batch(BATCH_SIZE)\n",
    "train_ds = train_ds.map(lambda x, y: one_hot(x, y, classes=c))\n",
    "\n",
    "valid_ds = tf.data.Dataset.from_tensor_slices((x_test, y_test))\n",
    "valid_ds = valid_ds.batch(BATCH_SIZE)\n",
    "valid_ds = valid_ds.map(lambda x, y: one_hot(x, y, classes=c))\n",
    "train_ds, valid_ds"
   ]
  },
  {
   "cell_type": "code",
   "execution_count": 14,
   "metadata": {},
   "outputs": [],
   "source": [
    "# Now how to fix this and insert callbacks: metrics and stuff"
   ]
  },
  {
   "cell_type": "code",
   "execution_count": 15,
   "metadata": {},
   "outputs": [],
   "source": [
    "#export\n",
    "import re\n",
    "\n",
    "_camel_re1 = re.compile('(.)([A-Z][a-z]+)')\n",
    "_camel_re2 = re.compile('([a-z0-9])([A-Z])')\n",
    "def camel2snake(name):\n",
    "    s1 = re.sub(_camel_re1, r'\\1_\\2', name)\n",
    "    return re.sub(_camel_re2, r'\\1_\\2', s1).lower()\n",
    "\n",
    "class Callback():\n",
    "    _order=0\n",
    "    def set_runner(self, run): self.run=run\n",
    "    def __getattr__(self, k): return getattr(self.run, k)\n",
    "    \n",
    "    @property\n",
    "    def name(self):\n",
    "        name = re.sub(r'Callback$', '', self.__class__.__name__)\n",
    "        return camel2snake(name or 'callback')\n",
    "    \n",
    "    def __call__(self, cb_name):\n",
    "        f = getattr(self, cb_name, None)\n",
    "        if f and f(): return True\n",
    "        return False"
   ]
  },
  {
   "cell_type": "code",
   "execution_count": 16,
   "metadata": {},
   "outputs": [],
   "source": [
    "#export\n",
    "class TrainEvalCallback(Callback):\n",
    "    def begin_fit(self):        \n",
    "        self.run.n_epochs=0.\n",
    "        self.run.n_iter=0\n",
    "    \n",
    "    def after_batch(self):        \n",
    "        if not self.in_train: return\n",
    "        self.run.n_epochs += 1./self.iters\n",
    "        self.run.n_iter   += 1\n",
    "        \n",
    "    def begin_epoch(self):        \n",
    "        self.run.n_epochs=self.epoch\n",
    "#         self.model.train()\n",
    "        self.run.in_train=True\n",
    "\n",
    "    def begin_validate(self):        \n",
    "#         self.model.eval()\n",
    "        self.run.in_train=False\n",
    "    \n",
    "class CancelTrainException(Exception): pass\n",
    "class CancelEpochException(Exception): pass\n",
    "class CancelBatchException(Exception): pass"
   ]
  },
  {
   "cell_type": "code",
   "execution_count": 17,
   "metadata": {},
   "outputs": [
    {
     "data": {
      "text/plain": [
       "'train_eval_callback'"
      ]
     },
     "execution_count": 17,
     "metadata": {},
     "output_type": "execute_result"
    }
   ],
   "source": [
    "cbname = 'TrainEvalCallback'\n",
    "camel2snake(cbname)"
   ]
  },
  {
   "cell_type": "code",
   "execution_count": 18,
   "metadata": {},
   "outputs": [
    {
     "data": {
      "text/plain": [
       "'train_eval'"
      ]
     },
     "execution_count": 18,
     "metadata": {},
     "output_type": "execute_result"
    }
   ],
   "source": [
    "TrainEvalCallback().name"
   ]
  },
  {
   "cell_type": "code",
   "execution_count": 19,
   "metadata": {},
   "outputs": [],
   "source": [
    "#export\n",
    "from typing import *\n",
    "\n",
    "def listify(o):\n",
    "    if o is None: return []\n",
    "    if isinstance(o, list): return o\n",
    "    if isinstance(o, str): return [o]\n",
    "    if isinstance(o, Iterable): return list(o)\n",
    "    return [o]"
   ]
  },
  {
   "cell_type": "code",
   "execution_count": 20,
   "metadata": {},
   "outputs": [],
   "source": [
    "#export\n",
    "class Runner():\n",
    "    def __init__(self, cbs=None, cb_funcs=None):        \n",
    "        cbs = listify(cbs)        \n",
    "        for cbf in listify(cb_funcs):\n",
    "            cb = cbf()\n",
    "            setattr(self, cb.name, cb)\n",
    "            cbs.append(cb)\n",
    "        self.stop,self.cbs = False,[TrainEvalCallback()]+cbs\n",
    "\n",
    "    @property\n",
    "    def optimizer(self):       return self.learn.optimizer\n",
    "    @property\n",
    "    def model(self):           return self.learn.model\n",
    "    @property\n",
    "    def loss_function(self):   return self.learn.loss_function\n",
    "    @property\n",
    "    def data(self):            return self.learn.data\n",
    "\n",
    "    def one_batch(self, xb, yb):        \n",
    "        # if watch_accessed_variables is True, the variables will be watched for gradients computation\n",
    "        # if watch_accessed_variables is False, no variables are watched for further gradients computation \n",
    "#         set_trace()\n",
    "        with tf.GradientTape(watch_accessed_variables=self.in_train) as tape:   \n",
    "            try:\n",
    "                self.xb,self.yb = xb,yb\n",
    "                self('begin_batch')\n",
    "                # if training is True, this enables to calculate batchnorm and dropout\n",
    "                # else batchnorm and dropout are disabled\n",
    "                self.pred = self.model(self.xb, training=self.in_train)\n",
    "                self('after_pred')\n",
    "                self.loss = self.loss_function(self.yb, self.pred)            \n",
    "                self('after_loss')\n",
    "                if not self.in_train: return\n",
    "                gradients = tape.gradient(self.loss, self.model.trainable_variables)\n",
    "                self('after_gradients')\n",
    "                optimizer.apply_gradients(zip(gradients, self.model.trainable_variables))\n",
    "                self('after_step')\n",
    "            except CancelBatchException: self('after_cancel_batch')\n",
    "            finally: self('after_batch')\n",
    "\n",
    "    def all_batches(self, dl):        \n",
    "        self.iters = len(list(dl))\n",
    "        try:\n",
    "            for xb,yb in dl: self.one_batch(xb, yb)\n",
    "        except CancelEpochException: self('after_cancel_epoch')                    \n",
    "\n",
    "    def fit(self, epochs, learn):          \n",
    "        self.epochs,self.learn = epochs,learn  \n",
    "        \n",
    "        try:  \n",
    "            # set runner for all callbacks            \n",
    "            for cb in self.cbs: cb.set_runner(self)     \n",
    "                \n",
    "            # on begin fit what to do?\n",
    "            self('begin_fit')\n",
    "            for epoch in range(epochs):                \n",
    "                self.epoch = epoch\n",
    "                # on begin epoch what to do?\n",
    "                if not self('begin_epoch'): self.all_batches(self.data.train_dl)\n",
    "                \n",
    "                # on begin validate what to do?                \n",
    "                if not self('begin_validate'): self.all_batches(self.data.valid_dl)\n",
    "                    \n",
    "                self('after_epoch')\n",
    "                    \n",
    "        except CancelTrainException: self('after_cancel_train')    \n",
    "        finally:\n",
    "            self('after_fit')\n",
    "            self.learn = None\n",
    "\n",
    "    def __call__(self, cb_name):\n",
    "        res = False\n",
    "        for cb in sorted(self.cbs, key=lambda x: x._order): res = cb(cb_name) or res\n",
    "        return res"
   ]
  },
  {
   "cell_type": "code",
   "execution_count": 21,
   "metadata": {},
   "outputs": [],
   "source": [
    "class LossAcc():\n",
    "    def __init__(self, metrics, in_train):\n",
    "        self.metrics, self.in_train = metrics, in_train\n",
    "        self.reset()\n",
    "        \n",
    "    def reset(self):\n",
    "        self.tot_loss, self.tot_acc = 0., 0.\n",
    "        \n",
    "    def calculate(self, run):      \n",
    "#         set_trace()\n",
    "        self.tot_loss += run.loss.numpy()\n",
    "        self.tot_acc  += self.metrics(tf.argmax(run.yb, axis=-1), run.pred).numpy()*100\n",
    "    \n",
    "#     def print_loss_acc(self, run):\n",
    "#         print(self.tot_loss / run.data.valid_samples, self.tot_acc / run.data.valid_samples)\n",
    "        \n",
    "class LossAccCallback(Callback):\n",
    "    def __init__(self, metrics):\n",
    "        self.epoch = 0\n",
    "        self.valid_lossacc = LossAcc(metrics, in_train=False)\n",
    "        self.train_lossacc = LossAcc(metrics, in_train=True)\n",
    "        \n",
    "    def begin_epoch(self):        \n",
    "        self.train_lossacc.reset()\n",
    "        self.run.in_train=True\n",
    "    \n",
    "    def after_loss(self):\n",
    "        if self.run.in_train:\n",
    "            self.train_lossacc.calculate(self.run)\n",
    "        else:\n",
    "            self.valid_lossacc.calculate(self.run)\n",
    "        \n",
    "    def after_epoch(self):\n",
    "        self.print_train(self.run)\n",
    "        self.print_valid(self.run)\n",
    "        self.epoch += 1\n",
    "        \n",
    "    def begin_validate(self):        \n",
    "        self.valid_lossacc.reset()\n",
    "        self.run.in_train=False\n",
    "        \n",
    "    def print_valid(self, run):\n",
    "        print('Valid: ', \n",
    "              self.epoch, \n",
    "              self.valid_lossacc.tot_loss / run.data.valid_samples, \n",
    "              self.valid_lossacc.tot_acc / run.data.valid_samples)\n",
    "        \n",
    "    def print_train(self, run):\n",
    "        print('Train: ', \n",
    "              self.epoch, \n",
    "              self.train_lossacc.tot_loss / run.data.train_samples, \n",
    "              self.train_lossacc.tot_acc / run.data.train_samples)"
   ]
  },
  {
   "cell_type": "code",
   "execution_count": 22,
   "metadata": {},
   "outputs": [],
   "source": [
    "class TestCallback(Callback):\n",
    "    _order = 1\n",
    "    def after_step(self):\n",
    "        print(self.n_iter)\n",
    "        if self.n_iter >= 10: raise CancelTrainException()"
   ]
  },
  {
   "cell_type": "code",
   "execution_count": 23,
   "metadata": {},
   "outputs": [],
   "source": [
    "run = Runner(cb_funcs=TestCallback)"
   ]
  },
  {
   "cell_type": "code",
   "execution_count": 24,
   "metadata": {},
   "outputs": [],
   "source": [
    "# set model parameters\n",
    "n_out = 10 # output classes\n",
    "nh = 50 # hidden\n",
    "lr = 0.3\n",
    "model = Model(nh, n_out)\n",
    "loss_function = cross_entropy\n",
    "optimizer = tf.keras.optimizers.SGD(learning_rate=lr)"
   ]
  },
  {
   "cell_type": "code",
   "execution_count": 25,
   "metadata": {},
   "outputs": [],
   "source": [
    "# set the dataset\n",
    "data = DataBunch(train_ds, valid_ds, classes=c)"
   ]
  },
  {
   "cell_type": "code",
   "execution_count": 26,
   "metadata": {},
   "outputs": [],
   "source": [
    "# pack the full model into a learner\n",
    "learn = Learner(model=model, optimizer=optimizer, loss_function=loss_function, data=data)"
   ]
  },
  {
   "cell_type": "code",
   "execution_count": 27,
   "metadata": {
    "scrolled": false
   },
   "outputs": [
    {
     "name": "stderr",
     "output_type": "stream",
     "text": [
      "WARNING: Logging before flag parsing goes to stderr.\n",
      "W0130 14:36:22.925260 140032528676608 base_layer.py:1814] Layer model is casting an input tensor from dtype float64 to the layer's dtype of float32, which is new behavior in TensorFlow 2.  The layer has dtype float32 because it's dtype defaults to floatx.\n",
      "\n",
      "If you intended to run this layer in float32, you can safely ignore this warning. If in doubt, this warning is likely only an issue if you are porting a TensorFlow 1.X model to TensorFlow 2.\n",
      "\n",
      "To change all layers to have dtype float64 by default, call `tf.keras.backend.set_floatx('float64')`. To change just this layer, pass dtype='float64' to the layer constructor. If you are the author of this layer, you can disable autocasting by passing autocast=False to the base Layer constructor.\n",
      "\n"
     ]
    },
    {
     "name": "stdout",
     "output_type": "stream",
     "text": [
      "0\n",
      "1\n",
      "2\n",
      "3\n",
      "4\n",
      "5\n",
      "6\n",
      "7\n",
      "8\n",
      "9\n",
      "10\n"
     ]
    }
   ],
   "source": [
    "run.fit(3, learn)"
   ]
  },
  {
   "cell_type": "raw",
   "metadata": {},
   "source": [
    "optimizer.lr, optimizer.decay"
   ]
  },
  {
   "cell_type": "code",
   "execution_count": 43,
   "metadata": {},
   "outputs": [],
   "source": [
    "# save and track of the loss and scheduled learning rate\n",
    "class Recorder(Callback):    \n",
    "    def begin_fit(self): self.lrs, self.losses = [], []\n",
    "        \n",
    "    def after_batch(self):        \n",
    "        if not self.in_train: return        \n",
    "        self.lrs.append(self.optimizer.lr.numpy())\n",
    "        self.losses.append(self.loss.numpy())\n",
    "        \n",
    "    def plot_lr(self):                plt.plot(self.lrs)\n",
    "    def plot_loss(self, skip_last=0): plt.plot(self.losses[:len(self.losses)-skip_last])\n",
    "        \n",
    "    def plot(self, skip_last=0):\n",
    "        losses =[o.item() for o in self.losses]\n",
    "        lrs = self.lrs\n",
    "        n = len(losses)-skip_last\n",
    "        plt.xscale('log')\n",
    "        plt.plot(lrs[:n], losses[:n])"
   ]
  },
  {
   "cell_type": "code",
   "execution_count": 44,
   "metadata": {},
   "outputs": [],
   "source": [
    "# schedule hyperparams\n",
    "class ParamScheduler(Callback):\n",
    "    _order=1\n",
    "    def __init__(self, pname, sched_func): \n",
    "        self.pname, self.sched_func = pname, sched_func\n",
    "        \n",
    "    def set_param(self):        \n",
    "        if not hasattr(self.optimizer, self.pname): \n",
    "            print('No such attribute:', self.pname) \n",
    "            return\n",
    "#         set_trace()\n",
    "        setattr(self.optimizer, self.pname, self.sched_func(self.n_epochs/self.epochs))\n",
    "        \n",
    "    def begin_batch(self):\n",
    "        if self.in_train: self.set_param()"
   ]
  },
  {
   "cell_type": "code",
   "execution_count": 45,
   "metadata": {},
   "outputs": [],
   "source": [
    "class LR_Find(Callback):\n",
    "    _order = 1\n",
    "    def __init__(self, max_iter=100, min_lr=1e-6, max_lr=10):\n",
    "        self.max_iter, self.min_lr, self.max_lr = max_iter, min_lr, max_lr\n",
    "        self.best_loss = 1e9\n",
    "        \n",
    "    def begin_batch(self):\n",
    "        if not self.in_train: return\n",
    "        pos = self.n_iter / self.max_iter\n",
    "        lr = self.min_lr * (self.max_lr/self.min_lr)**pos\n",
    "        setattr(self.optimizer, 'lr', lr)\n",
    "        \n",
    "    def after_step(self):\n",
    "        if self.n_iter >= self.max_iter or self.loss > self.best_loss*10:\n",
    "            raise CancelTrainException()\n",
    "        if self.loss < self.best_loss: self.best_loss = self.loss        "
   ]
  },
  {
   "cell_type": "code",
   "execution_count": 46,
   "metadata": {},
   "outputs": [],
   "source": [
    "run = Runner(cb_funcs=[LR_Find, Recorder])"
   ]
  },
  {
   "cell_type": "code",
   "execution_count": 56,
   "metadata": {},
   "outputs": [],
   "source": [
    "# set model parameters\n",
    "n_out = 10 # output classes\n",
    "nh = 50 # hidden\n",
    "lr = 0.25\n",
    "model = Model(nh, n_out)\n",
    "loss_function = cross_entropy\n",
    "optimizer = tf.keras.optimizers.SGD(learning_rate=lr)"
   ]
  },
  {
   "cell_type": "code",
   "execution_count": 57,
   "metadata": {},
   "outputs": [],
   "source": [
    "# set the dataset\n",
    "data = DataBunch(train_ds, valid_ds, classes=c)"
   ]
  },
  {
   "cell_type": "code",
   "execution_count": 58,
   "metadata": {},
   "outputs": [],
   "source": [
    "# pack the full model into a learner\n",
    "learn = Learner(model=model, optimizer=optimizer, loss_function=loss_function, data=data)"
   ]
  },
  {
   "cell_type": "code",
   "execution_count": 59,
   "metadata": {},
   "outputs": [
    {
     "name": "stderr",
     "output_type": "stream",
     "text": [
      "W0130 15:29:04.972650 140032528676608 base_layer.py:1814] Layer model_2 is casting an input tensor from dtype float64 to the layer's dtype of float32, which is new behavior in TensorFlow 2.  The layer has dtype float32 because it's dtype defaults to floatx.\n",
      "\n",
      "If you intended to run this layer in float32, you can safely ignore this warning. If in doubt, this warning is likely only an issue if you are porting a TensorFlow 1.X model to TensorFlow 2.\n",
      "\n",
      "To change all layers to have dtype float64 by default, call `tf.keras.backend.set_floatx('float64')`. To change just this layer, pass dtype='float64' to the layer constructor. If you are the author of this layer, you can disable autocasting by passing autocast=False to the base Layer constructor.\n",
      "\n"
     ]
    }
   ],
   "source": [
    "run.fit(2, learn)"
   ]
  },
  {
   "cell_type": "code",
   "execution_count": 60,
   "metadata": {},
   "outputs": [
    {
     "data": {
      "image/png": "[encoded data removed]",
      "text/plain": [
       "<Figure size 432x288 with 1 Axes>"
      ]
     },
     "metadata": {
      "needs_background": "light"
     },
     "output_type": "display_data"
    }
   ],
   "source": [
    "run.recorder.plot(skip_last=2)"
   ]
  },
  {
   "cell_type": "code",
   "execution_count": 61,
   "metadata": {},
   "outputs": [
    {
     "data": {
      "image/png": "[encoded data removed]",
      "text/plain": [
       "<Figure size 432x288 with 1 Axes>"
      ]
     },
     "metadata": {
      "needs_background": "light"
     },
     "output_type": "display_data"
    }
   ],
   "source": [
    "run.recorder.plot_lr()"
   ]
  },
  {
   "cell_type": "code",
   "execution_count": null,
   "metadata": {},
   "outputs": [],
   "source": []
  }
 ],
 "metadata": {
  "kernelspec": {
   "display_name": "TF20",
   "language": "python",
   "name": "tf20"
  },
  "language_info": {
   "codemirror_mode": {
    "name": "ipython",
    "version": 3
   },
   "file_extension": ".py",
   "mimetype": "text/x-python",
   "name": "python",
   "nbconvert_exporter": "python",
   "pygments_lexer": "ipython3",
   "version": "3.5.2"
  }
 },
 "nbformat": 4,
 "nbformat_minor": 2
}
