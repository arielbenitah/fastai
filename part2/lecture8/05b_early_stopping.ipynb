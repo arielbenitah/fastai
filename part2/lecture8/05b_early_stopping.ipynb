{
 "cells": [
  {
   "cell_type": "code",
   "execution_count": 1,
   "metadata": {},
   "outputs": [],
   "source": [
    "# https://course.fast.ai/videos/?lesson=10&t=3167 @52:46\n",
    "# Callbacks\n",
    "# keep track of metrics: progress bar animation\n",
    "# hyper params scheduling \n",
    "# regularization techniques\n",
    "# tensorboards\n",
    "# mixed precision training\n"
   ]
  },
  {
   "cell_type": "code",
   "execution_count": 2,
   "metadata": {},
   "outputs": [],
   "source": [
    "%load_ext autoreload\n",
    "%autoreload 2\n",
    "\n",
    "%matplotlib inline"
   ]
  },
  {
   "cell_type": "code",
   "execution_count": 3,
   "metadata": {},
   "outputs": [],
   "source": [
    "from __future__ import absolute_import, division, print_function, unicode_literals\n",
    "import numpy as np\n",
    "import tensorflow as tf\n",
    "import matplotlib.pyplot as plt\n",
    "from pdb import set_trace\n",
    "from functools import partial\n",
    "import math\n",
    "from fastai_tf.fastai.utils.callbacks import Runner, Callback, CancelTrainException, LR_Find, Recorder"
   ]
  },
  {
   "cell_type": "markdown",
   "metadata": {},
   "source": [
    "# Early Stopping"
   ]
  },
  {
   "cell_type": "markdown",
   "metadata": {},
   "source": [
    "## Better callback cancellation"
   ]
  },
  {
   "cell_type": "code",
   "execution_count": 4,
   "metadata": {},
   "outputs": [
    {
     "name": "stdout",
     "output_type": "stream",
     "text": [
      "(60000, 28, 28) (60000,) (10000, 28, 28) (10000,)\n",
      "(60000, 784) (60000,) (10000, 784) (10000,) 0 9\n",
      "60000 784 10\n"
     ]
    }
   ],
   "source": [
    "mnist = tf.keras.datasets.mnist\n",
    "\n",
    "\n",
    "(x_train, y_train), (x_test, y_test) = mnist.load_data()\n",
    "print(x_train.shape, y_train.shape, x_test.shape, y_test.shape)\n",
    "x_train = x_train.reshape((x_train.shape[0], x_train.shape[1] * x_train.shape[1]))\n",
    "x_test = x_test.reshape((x_test.shape[0], x_test.shape[1] * x_test.shape[1]))\n",
    "print(x_train.shape, y_train.shape, x_test.shape, y_test.shape, y_train.min(), y_train.max())\n",
    "n, m = x_train.shape\n",
    "c = y_train.max() + 1\n",
    "print(n, m, c)"
   ]
  },
  {
   "cell_type": "code",
   "execution_count": 5,
   "metadata": {},
   "outputs": [],
   "source": [
    "def normalize(x, m, s): return (x - m) / s"
   ]
  },
  {
   "cell_type": "code",
   "execution_count": 6,
   "metadata": {},
   "outputs": [
    {
     "data": {
      "text/plain": [
       "(33.318421449829934, 78.56748998339798)"
      ]
     },
     "execution_count": 6,
     "metadata": {},
     "output_type": "execute_result"
    }
   ],
   "source": [
    "train_mean, train_std = x_train.mean(), x_train.std()\n",
    "train_mean, train_std"
   ]
  },
  {
   "cell_type": "code",
   "execution_count": 7,
   "metadata": {},
   "outputs": [],
   "source": [
    "x_train = normalize(x_train, train_mean, train_std)\n",
    "x_test  = normalize(x_test,  train_mean, train_std)"
   ]
  },
  {
   "cell_type": "code",
   "execution_count": 8,
   "metadata": {},
   "outputs": [
    {
     "data": {
      "text/plain": [
       "(-3.064638490070051e-17, 0.9999999999999998)"
      ]
     },
     "execution_count": 8,
     "metadata": {},
     "output_type": "execute_result"
    }
   ],
   "source": [
    "train_mean, train_std = x_train.mean(), x_train.std()\n",
    "train_mean, train_std"
   ]
  },
  {
   "cell_type": "code",
   "execution_count": 9,
   "metadata": {},
   "outputs": [],
   "source": [
    "class Model(tf.keras.Model):\n",
    "    def __init__(self, nh, n_out):        \n",
    "        super().__init__()\n",
    "        self.lrs = [tf.keras.layers.Dense(nh), tf.keras.layers.ReLU(), tf.keras.layers.Dense(n_out)]\n",
    "        \n",
    "    def call(self, x):\n",
    "        for l in self.lrs: x = l(x)\n",
    "        return x\n",
    "    \n",
    "# corss entropy loss\n",
    "def cross_entropy(targets, predictions):\n",
    "    return tf.math.reduce_mean(tf.nn.softmax_cross_entropy_with_logits(targets, predictions))\n",
    "\n",
    "# here the target MUST NOT BE one hot encoded\n",
    "def accuracy(targets, predictions):\n",
    "    y_predictions = tf.cast(tf.argmax(predictions, axis=1), dtype=tf.float32)\n",
    "    y_targets = tf.cast(targets, dtype=tf.float32)\n",
    "    return tf.math.reduce_mean(tf.cast(tf.math.equal( y_predictions, y_targets) , dtype=tf.float32))\n",
    "\n",
    "# class cross_entropy():\n",
    "#     def __init__(self):\n",
    "#         pass\n",
    "    \n",
    "#     def call(self, targets, predictions):\n",
    "#         return tf.math.reduce_mean(tf.nn.softmax_cross_entropy_with_logits(targets, predictions))\n",
    "\n",
    "    "
   ]
  },
  {
   "cell_type": "markdown",
   "metadata": {},
   "source": [
    "## Packing Your Full Model into a Learner"
   ]
  },
  {
   "cell_type": "code",
   "execution_count": 10,
   "metadata": {},
   "outputs": [],
   "source": [
    "# The idea is to pack your model into something that take\n",
    "# 1. the model \n",
    "# 2. the optimization method \n",
    "# 3. the loss function amd 4. the data\n",
    "class Learner():\n",
    "    def __init__(self, model, optimizer, loss_function, data):\n",
    "        self.model, self.optimizer, self.loss_function, self.data = model, optimizer, loss_function, data"
   ]
  },
  {
   "cell_type": "code",
   "execution_count": 11,
   "metadata": {},
   "outputs": [],
   "source": [
    "# The data as well can be packed into a DataBunch containing \n",
    "# 1. the training data\n",
    "# 2. the validation data\n",
    "# 3. the classes from 0 to 9\n",
    "# in a future version it can be interesting to get a subsample of the full data\n",
    "# for training purposes\n",
    "class DataBunch():\n",
    "    def __init__(self, train_dl, valid_dl, classes=None):\n",
    "        self.train_dl, self.valid_dl, self.classes = train_dl, valid_dl, classes\n",
    "        self.train_samples, self.valid_samples =  len(list(self.train_dl)), len(list(self.valid_dl))            "
   ]
  },
  {
   "cell_type": "code",
   "execution_count": 12,
   "metadata": {},
   "outputs": [],
   "source": [
    "def one_hot(x, y, classes):\n",
    "    return x, tf.one_hot(y, classes)"
   ]
  },
  {
   "cell_type": "code",
   "execution_count": 13,
   "metadata": {},
   "outputs": [
    {
     "data": {
      "text/plain": [
       "(<MapDataset shapes: ((None, 784), (None, 10)), types: (tf.float64, tf.float32)>,\n",
       " <MapDataset shapes: ((None, 784), (None, 10)), types: (tf.float64, tf.float32)>)"
      ]
     },
     "execution_count": 13,
     "metadata": {},
     "output_type": "execute_result"
    }
   ],
   "source": [
    "# Setting the dataset in tensorflow\n",
    "\n",
    "BATCH_SIZE = 64\n",
    "SHUFFLE_BUFFER_SIZE = 100\n",
    "\n",
    "train_ds = tf.data.Dataset.from_tensor_slices((x_train, y_train))\n",
    "train_ds = train_ds.shuffle(SHUFFLE_BUFFER_SIZE)\n",
    "train_ds = train_ds.batch(BATCH_SIZE)\n",
    "train_ds = train_ds.map(lambda x, y: one_hot(x, y, classes=c))\n",
    "\n",
    "valid_ds = tf.data.Dataset.from_tensor_slices((x_test, y_test))\n",
    "valid_ds = valid_ds.batch(BATCH_SIZE)\n",
    "valid_ds = valid_ds.map(lambda x, y: one_hot(x, y, classes=c))\n",
    "train_ds, valid_ds"
   ]
  },
  {
   "cell_type": "code",
   "execution_count": 14,
   "metadata": {},
   "outputs": [],
   "source": [
    "# Now how to fix this and insert callbacks: metrics and stuff"
   ]
  },
  {
   "cell_type": "code",
   "execution_count": 15,
   "metadata": {},
   "outputs": [],
   "source": [
    "class LossAcc():\n",
    "    def __init__(self, metrics, in_train):\n",
    "        self.metrics, self.in_train = metrics, in_train\n",
    "        self.reset()\n",
    "        \n",
    "    def reset(self):\n",
    "        self.tot_loss, self.tot_acc = 0., 0.\n",
    "        \n",
    "    def calculate(self, run):      \n",
    "#         set_trace()\n",
    "        self.tot_loss += run.loss.numpy()\n",
    "        self.tot_acc  += self.metrics(tf.argmax(run.yb, axis=-1), run.pred).numpy()*100\n",
    "    \n",
    "#     def print_loss_acc(self, run):\n",
    "#         print(self.tot_loss / run.data.valid_samples, self.tot_acc / run.data.valid_samples)\n",
    "        \n",
    "class LossAccCallback(Callback):\n",
    "    def __init__(self, metrics):\n",
    "        self.epoch = 0\n",
    "        self.valid_lossacc = LossAcc(metrics, in_train=False)\n",
    "        self.train_lossacc = LossAcc(metrics, in_train=True)\n",
    "        \n",
    "    def begin_epoch(self):        \n",
    "        self.train_lossacc.reset()\n",
    "        self.run.in_train=True\n",
    "    \n",
    "    def after_loss(self):\n",
    "        if self.run.in_train:\n",
    "            self.train_lossacc.calculate(self.run)\n",
    "        else:\n",
    "            self.valid_lossacc.calculate(self.run)\n",
    "        \n",
    "    def after_epoch(self):\n",
    "        self.print_train(self.run)\n",
    "        self.print_valid(self.run)\n",
    "        self.epoch += 1\n",
    "        \n",
    "    def begin_validate(self):        \n",
    "        self.valid_lossacc.reset()\n",
    "        self.run.in_train=False\n",
    "        \n",
    "    def print_valid(self, run):\n",
    "        print('Valid: ', \n",
    "              self.epoch, \n",
    "              self.valid_lossacc.tot_loss / run.data.valid_samples, \n",
    "              self.valid_lossacc.tot_acc / run.data.valid_samples)\n",
    "        \n",
    "    def print_train(self, run):\n",
    "        print('Train: ', \n",
    "              self.epoch, \n",
    "              self.train_lossacc.tot_loss / run.data.train_samples, \n",
    "              self.train_lossacc.tot_acc / run.data.train_samples)"
   ]
  },
  {
   "cell_type": "code",
   "execution_count": 16,
   "metadata": {},
   "outputs": [],
   "source": [
    "class TestCallback(Callback):\n",
    "    _order = 1\n",
    "    def after_step(self):\n",
    "        print(self.n_iter)\n",
    "        if self.n_iter >= 10: raise CancelTrainException()"
   ]
  },
  {
   "cell_type": "code",
   "execution_count": 17,
   "metadata": {},
   "outputs": [],
   "source": [
    "run = Runner(cb_funcs=TestCallback)"
   ]
  },
  {
   "cell_type": "code",
   "execution_count": 18,
   "metadata": {},
   "outputs": [],
   "source": [
    "# set model parameters\n",
    "n_out = 10 # output classes\n",
    "nh = 50 # hidden\n",
    "lr = 0.3\n",
    "model = Model(nh, n_out)\n",
    "loss_function = cross_entropy\n",
    "optimizer = tf.keras.optimizers.SGD(learning_rate=lr)"
   ]
  },
  {
   "cell_type": "code",
   "execution_count": 19,
   "metadata": {},
   "outputs": [],
   "source": [
    "# set the dataset\n",
    "data = DataBunch(train_ds, valid_ds, classes=c)"
   ]
  },
  {
   "cell_type": "code",
   "execution_count": 20,
   "metadata": {},
   "outputs": [],
   "source": [
    "# pack the full model into a learner\n",
    "learn = Learner(model=model, optimizer=optimizer, loss_function=loss_function, data=data)"
   ]
  },
  {
   "cell_type": "code",
   "execution_count": 21,
   "metadata": {
    "scrolled": false
   },
   "outputs": [
    {
     "name": "stdout",
     "output_type": "stream",
     "text": [
      "WARNING:tensorflow:Layer model is casting an input tensor from dtype float64 to the layer's dtype of float32, which is new behavior in TensorFlow 2.  The layer has dtype float32 because it's dtype defaults to floatx.\n",
      "\n",
      "If you intended to run this layer in float32, you can safely ignore this warning. If in doubt, this warning is likely only an issue if you are porting a TensorFlow 1.X model to TensorFlow 2.\n",
      "\n",
      "To change all layers to have dtype float64 by default, call `tf.keras.backend.set_floatx('float64')`. To change just this layer, pass dtype='float64' to the layer constructor. If you are the author of this layer, you can disable autocasting by passing autocast=False to the base Layer constructor.\n",
      "\n",
      "0\n",
      "1\n",
      "2\n",
      "3\n",
      "4\n",
      "5\n",
      "6\n",
      "7\n",
      "8\n",
      "9\n",
      "10\n"
     ]
    }
   ],
   "source": [
    "run.fit(3, learn)"
   ]
  },
  {
   "cell_type": "code",
   "execution_count": 22,
   "metadata": {},
   "outputs": [],
   "source": [
    "run = Runner(cb_funcs=[LR_Find, Recorder])"
   ]
  },
  {
   "cell_type": "code",
   "execution_count": 23,
   "metadata": {},
   "outputs": [],
   "source": [
    "# set model parameters\n",
    "n_out = 10 # output classes\n",
    "nh = 50 # hidden\n",
    "lr = 0.25\n",
    "model = Model(nh, n_out)\n",
    "loss_function = cross_entropy\n",
    "optimizer = tf.keras.optimizers.SGD(learning_rate=lr)"
   ]
  },
  {
   "cell_type": "code",
   "execution_count": 24,
   "metadata": {},
   "outputs": [],
   "source": [
    "# set the dataset\n",
    "data = DataBunch(train_ds, valid_ds, classes=c)"
   ]
  },
  {
   "cell_type": "code",
   "execution_count": 25,
   "metadata": {},
   "outputs": [],
   "source": [
    "# pack the full model into a learner\n",
    "learn = Learner(model=model, optimizer=optimizer, loss_function=loss_function, data=data)"
   ]
  },
  {
   "cell_type": "code",
   "execution_count": 26,
   "metadata": {},
   "outputs": [
    {
     "name": "stdout",
     "output_type": "stream",
     "text": [
      "WARNING:tensorflow:Layer model_1 is casting an input tensor from dtype float64 to the layer's dtype of float32, which is new behavior in TensorFlow 2.  The layer has dtype float32 because it's dtype defaults to floatx.\n",
      "\n",
      "If you intended to run this layer in float32, you can safely ignore this warning. If in doubt, this warning is likely only an issue if you are porting a TensorFlow 1.X model to TensorFlow 2.\n",
      "\n",
      "To change all layers to have dtype float64 by default, call `tf.keras.backend.set_floatx('float64')`. To change just this layer, pass dtype='float64' to the layer constructor. If you are the author of this layer, you can disable autocasting by passing autocast=False to the base Layer constructor.\n",
      "\n"
     ]
    }
   ],
   "source": [
    "run.fit(2, learn)"
   ]
  },
  {
   "cell_type": "code",
   "execution_count": 27,
   "metadata": {},
   "outputs": [
    {
     "data": {
      "image/png": "[encoded data removed]",
      "text/plain": [
       "<Figure size 432x288 with 1 Axes>"
      ]
     },
     "metadata": {
      "needs_background": "light"
     },
     "output_type": "display_data"
    }
   ],
   "source": [
    "run.recorder.plot(skip_last=2)"
   ]
  },
  {
   "cell_type": "code",
   "execution_count": 28,
   "metadata": {},
   "outputs": [
    {
     "data": {
      "image/png": "[encoded data removed]",
      "text/plain": [
       "<Figure size 432x288 with 1 Axes>"
      ]
     },
     "metadata": {
      "needs_background": "light"
     },
     "output_type": "display_data"
    }
   ],
   "source": [
    "run.recorder.plot_lr()"
   ]
  },
  {
   "cell_type": "code",
   "execution_count": null,
   "metadata": {},
   "outputs": [],
   "source": []
  }
 ],
 "metadata": {
  "kernelspec": {
   "display_name": "Python 3",
   "language": "python",
   "name": "python3"
  },
  "language_info": {
   "codemirror_mode": {
    "name": "ipython",
    "version": 3
   },
   "file_extension": ".py",
   "mimetype": "text/x-python",
   "name": "python",
   "nbconvert_exporter": "python",
   "pygments_lexer": "ipython3",
   "version": "3.5.2"
  }
 },
 "nbformat": 4,
 "nbformat_minor": 2
}
